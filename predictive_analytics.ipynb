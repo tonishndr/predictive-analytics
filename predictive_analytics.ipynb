{
 "cells": [
  {
   "attachments": {},
   "cell_type": "markdown",
   "metadata": {},
   "source": [
    "##### **Data Explorations**"
   ]
  },
  {
   "attachments": {},
   "cell_type": "markdown",
   "metadata": {},
   "source": [
    "Hal pertama yang dilakukan adalah mengimport librari umum untuk keperluan analisis."
   ]
  },
  {
   "cell_type": "code",
   "execution_count": 1,
   "metadata": {},
   "outputs": [],
   "source": [
    "# Import Libraries\n",
    "import pandas as pd\n",
    "import numpy as np\n",
    "import matplotlib.pyplot as plt\n",
    "import seaborn as sns\n",
    "import warnings\n",
    "from pandas.errors import SettingWithCopyWarning\n",
    "warnings.filterwarnings('ignore', category=SettingWithCopyWarning)"
   ]
  },
  {
   "attachments": {},
   "cell_type": "markdown",
   "metadata": {},
   "source": [
    "Memuat dataset menjadi dataframe."
   ]
  },
  {
   "cell_type": "code",
   "execution_count": 2,
   "metadata": {},
   "outputs": [
    {
     "data": {
      "text/html": [
       "<div>\n",
       "<style scoped>\n",
       "    .dataframe tbody tr th:only-of-type {\n",
       "        vertical-align: middle;\n",
       "    }\n",
       "\n",
       "    .dataframe tbody tr th {\n",
       "        vertical-align: top;\n",
       "    }\n",
       "\n",
       "    .dataframe thead th {\n",
       "        text-align: right;\n",
       "    }\n",
       "</style>\n",
       "<table border=\"1\" class=\"dataframe\">\n",
       "  <thead>\n",
       "    <tr style=\"text-align: right;\">\n",
       "      <th></th>\n",
       "      <th>InvoiceNo</th>\n",
       "      <th>StockCode</th>\n",
       "      <th>Description</th>\n",
       "      <th>Quantity</th>\n",
       "      <th>InvoiceDate</th>\n",
       "      <th>UnitPrice</th>\n",
       "      <th>CustomerID</th>\n",
       "      <th>Country</th>\n",
       "    </tr>\n",
       "  </thead>\n",
       "  <tbody>\n",
       "    <tr>\n",
       "      <th>0</th>\n",
       "      <td>536365</td>\n",
       "      <td>85123A</td>\n",
       "      <td>WHITE HANGING HEART T-LIGHT HOLDER</td>\n",
       "      <td>6</td>\n",
       "      <td>12/01/10 08:26 AM</td>\n",
       "      <td>2.55</td>\n",
       "      <td>17850.0</td>\n",
       "      <td>United Kingdom</td>\n",
       "    </tr>\n",
       "    <tr>\n",
       "      <th>1</th>\n",
       "      <td>536365</td>\n",
       "      <td>71053</td>\n",
       "      <td>WHITE METAL LANTERN</td>\n",
       "      <td>6</td>\n",
       "      <td>12/01/10 08:26 AM</td>\n",
       "      <td>3.39</td>\n",
       "      <td>17850.0</td>\n",
       "      <td>United Kingdom</td>\n",
       "    </tr>\n",
       "    <tr>\n",
       "      <th>2</th>\n",
       "      <td>536365</td>\n",
       "      <td>84406B</td>\n",
       "      <td>CREAM CUPID HEARTS COAT HANGER</td>\n",
       "      <td>8</td>\n",
       "      <td>12/01/10 08:26 AM</td>\n",
       "      <td>2.75</td>\n",
       "      <td>17850.0</td>\n",
       "      <td>United Kingdom</td>\n",
       "    </tr>\n",
       "    <tr>\n",
       "      <th>3</th>\n",
       "      <td>536365</td>\n",
       "      <td>84029G</td>\n",
       "      <td>KNITTED UNION FLAG HOT WATER BOTTLE</td>\n",
       "      <td>6</td>\n",
       "      <td>12/01/10 08:26 AM</td>\n",
       "      <td>3.39</td>\n",
       "      <td>17850.0</td>\n",
       "      <td>United Kingdom</td>\n",
       "    </tr>\n",
       "    <tr>\n",
       "      <th>4</th>\n",
       "      <td>536365</td>\n",
       "      <td>84029E</td>\n",
       "      <td>RED WOOLLY HOTTIE WHITE HEART.</td>\n",
       "      <td>6</td>\n",
       "      <td>12/01/10 08:26 AM</td>\n",
       "      <td>3.39</td>\n",
       "      <td>17850.0</td>\n",
       "      <td>United Kingdom</td>\n",
       "    </tr>\n",
       "    <tr>\n",
       "      <th>...</th>\n",
       "      <td>...</td>\n",
       "      <td>...</td>\n",
       "      <td>...</td>\n",
       "      <td>...</td>\n",
       "      <td>...</td>\n",
       "      <td>...</td>\n",
       "      <td>...</td>\n",
       "      <td>...</td>\n",
       "    </tr>\n",
       "    <tr>\n",
       "      <th>541904</th>\n",
       "      <td>581587</td>\n",
       "      <td>22613</td>\n",
       "      <td>PACK OF 20 SPACEBOY NAPKINS</td>\n",
       "      <td>12</td>\n",
       "      <td>12/09/11 12:50 PM</td>\n",
       "      <td>0.85</td>\n",
       "      <td>12680.0</td>\n",
       "      <td>France</td>\n",
       "    </tr>\n",
       "    <tr>\n",
       "      <th>541905</th>\n",
       "      <td>581587</td>\n",
       "      <td>22899</td>\n",
       "      <td>CHILDREN'S APRON DOLLY GIRL</td>\n",
       "      <td>6</td>\n",
       "      <td>12/09/11 12:50 PM</td>\n",
       "      <td>2.10</td>\n",
       "      <td>12680.0</td>\n",
       "      <td>France</td>\n",
       "    </tr>\n",
       "    <tr>\n",
       "      <th>541906</th>\n",
       "      <td>581587</td>\n",
       "      <td>23254</td>\n",
       "      <td>CHILDRENS CUTLERY DOLLY GIRL</td>\n",
       "      <td>4</td>\n",
       "      <td>12/09/11 12:50 PM</td>\n",
       "      <td>4.15</td>\n",
       "      <td>12680.0</td>\n",
       "      <td>France</td>\n",
       "    </tr>\n",
       "    <tr>\n",
       "      <th>541907</th>\n",
       "      <td>581587</td>\n",
       "      <td>23255</td>\n",
       "      <td>CHILDRENS CUTLERY CIRCUS PARADE</td>\n",
       "      <td>4</td>\n",
       "      <td>12/09/11 12:50 PM</td>\n",
       "      <td>4.15</td>\n",
       "      <td>12680.0</td>\n",
       "      <td>France</td>\n",
       "    </tr>\n",
       "    <tr>\n",
       "      <th>541908</th>\n",
       "      <td>581587</td>\n",
       "      <td>22138</td>\n",
       "      <td>BAKING SET 9 PIECE RETROSPOT</td>\n",
       "      <td>3</td>\n",
       "      <td>12/09/11 12:50 PM</td>\n",
       "      <td>4.95</td>\n",
       "      <td>12680.0</td>\n",
       "      <td>France</td>\n",
       "    </tr>\n",
       "  </tbody>\n",
       "</table>\n",
       "<p>541909 rows × 8 columns</p>\n",
       "</div>"
      ],
      "text/plain": [
       "       InvoiceNo StockCode                          Description  Quantity  \\\n",
       "0         536365    85123A   WHITE HANGING HEART T-LIGHT HOLDER         6   \n",
       "1         536365     71053                  WHITE METAL LANTERN         6   \n",
       "2         536365    84406B       CREAM CUPID HEARTS COAT HANGER         8   \n",
       "3         536365    84029G  KNITTED UNION FLAG HOT WATER BOTTLE         6   \n",
       "4         536365    84029E       RED WOOLLY HOTTIE WHITE HEART.         6   \n",
       "...          ...       ...                                  ...       ...   \n",
       "541904    581587     22613          PACK OF 20 SPACEBOY NAPKINS        12   \n",
       "541905    581587     22899         CHILDREN'S APRON DOLLY GIRL          6   \n",
       "541906    581587     23254        CHILDRENS CUTLERY DOLLY GIRL          4   \n",
       "541907    581587     23255      CHILDRENS CUTLERY CIRCUS PARADE         4   \n",
       "541908    581587     22138        BAKING SET 9 PIECE RETROSPOT          3   \n",
       "\n",
       "              InvoiceDate  UnitPrice  CustomerID         Country  \n",
       "0       12/01/10 08:26 AM       2.55     17850.0  United Kingdom  \n",
       "1       12/01/10 08:26 AM       3.39     17850.0  United Kingdom  \n",
       "2       12/01/10 08:26 AM       2.75     17850.0  United Kingdom  \n",
       "3       12/01/10 08:26 AM       3.39     17850.0  United Kingdom  \n",
       "4       12/01/10 08:26 AM       3.39     17850.0  United Kingdom  \n",
       "...                   ...        ...         ...             ...  \n",
       "541904  12/09/11 12:50 PM       0.85     12680.0          France  \n",
       "541905  12/09/11 12:50 PM       2.10     12680.0          France  \n",
       "541906  12/09/11 12:50 PM       4.15     12680.0          France  \n",
       "541907  12/09/11 12:50 PM       4.15     12680.0          France  \n",
       "541908  12/09/11 12:50 PM       4.95     12680.0          France  \n",
       "\n",
       "[541909 rows x 8 columns]"
      ]
     },
     "execution_count": 2,
     "metadata": {},
     "output_type": "execute_result"
    }
   ],
   "source": [
    "# Load Data\n",
    "or_df = pd.read_csv('/Users/tonisuhendar/One-Hour/learn-ds/dataset/online-retail-transactions/online_retail.csv')\n",
    "or_df"
   ]
  },
  {
   "attachments": {},
   "cell_type": "markdown",
   "metadata": {},
   "source": [
    "Menampilkan informasi terkait dataset."
   ]
  },
  {
   "cell_type": "code",
   "execution_count": 3,
   "metadata": {},
   "outputs": [
    {
     "name": "stdout",
     "output_type": "stream",
     "text": [
      "<class 'pandas.core.frame.DataFrame'>\n",
      "RangeIndex: 541909 entries, 0 to 541908\n",
      "Data columns (total 8 columns):\n",
      " #   Column       Non-Null Count   Dtype  \n",
      "---  ------       --------------   -----  \n",
      " 0   InvoiceNo    541909 non-null  object \n",
      " 1   StockCode    541909 non-null  object \n",
      " 2   Description  540455 non-null  object \n",
      " 3   Quantity     541909 non-null  int64  \n",
      " 4   InvoiceDate  541909 non-null  object \n",
      " 5   UnitPrice    541909 non-null  float64\n",
      " 6   CustomerID   406829 non-null  float64\n",
      " 7   Country      541909 non-null  object \n",
      "dtypes: float64(2), int64(1), object(5)\n",
      "memory usage: 33.1+ MB\n"
     ]
    }
   ],
   "source": [
    "# Get info\n",
    "or_df.info()"
   ]
  },
  {
   "attachments": {},
   "cell_type": "markdown",
   "metadata": {},
   "source": [
    "Melakukan pengecekan nilai yang hilang."
   ]
  },
  {
   "cell_type": "code",
   "execution_count": 4,
   "metadata": {},
   "outputs": [
    {
     "data": {
      "text/plain": [
       "InvoiceNo           0\n",
       "StockCode           0\n",
       "Description      1454\n",
       "Quantity            0\n",
       "InvoiceDate         0\n",
       "UnitPrice           0\n",
       "CustomerID     135080\n",
       "Country             0\n",
       "dtype: int64"
      ]
     },
     "execution_count": 4,
     "metadata": {},
     "output_type": "execute_result"
    }
   ],
   "source": [
    "# Check Missing Values\n",
    "or_df.isna().sum()"
   ]
  },
  {
   "attachments": {},
   "cell_type": "markdown",
   "metadata": {},
   "source": [
    "Membuat dataframe sebagai representasi nilai yang hilang dalam ukuran persentase supaya lebih mudah dipahami."
   ]
  },
  {
   "cell_type": "code",
   "execution_count": 5,
   "metadata": {},
   "outputs": [
    {
     "data": {
      "text/html": [
       "<div>\n",
       "<style scoped>\n",
       "    .dataframe tbody tr th:only-of-type {\n",
       "        vertical-align: middle;\n",
       "    }\n",
       "\n",
       "    .dataframe tbody tr th {\n",
       "        vertical-align: top;\n",
       "    }\n",
       "\n",
       "    .dataframe thead th {\n",
       "        text-align: right;\n",
       "    }\n",
       "</style>\n",
       "<table border=\"1\" class=\"dataframe\">\n",
       "  <thead>\n",
       "    <tr style=\"text-align: right;\">\n",
       "      <th></th>\n",
       "      <th>Count</th>\n",
       "      <th>Percent</th>\n",
       "    </tr>\n",
       "  </thead>\n",
       "  <tbody>\n",
       "    <tr>\n",
       "      <th>Total Rows</th>\n",
       "      <td>541909</td>\n",
       "      <td>100.00%</td>\n",
       "    </tr>\n",
       "    <tr>\n",
       "      <th>Description</th>\n",
       "      <td>1454</td>\n",
       "      <td>0.27%</td>\n",
       "    </tr>\n",
       "    <tr>\n",
       "      <th>Customer ID</th>\n",
       "      <td>135080</td>\n",
       "      <td>24.93%</td>\n",
       "    </tr>\n",
       "    <tr>\n",
       "      <th>Total Missing Values</th>\n",
       "      <td>135080</td>\n",
       "      <td>24.93%</td>\n",
       "    </tr>\n",
       "  </tbody>\n",
       "</table>\n",
       "</div>"
      ],
      "text/plain": [
       "                       Count  Percent\n",
       "Total Rows            541909  100.00%\n",
       "Description             1454    0.27%\n",
       "Customer ID           135080   24.93%\n",
       "Total Missing Values  135080   24.93%"
      ]
     },
     "execution_count": 5,
     "metadata": {},
     "output_type": "execute_result"
    }
   ],
   "source": [
    "# Percentage of Missing Values\n",
    "total_number_of_rows = len(or_df)\n",
    "miss_description = or_df['Description'].isna().sum()\n",
    "miss_customerid = or_df['CustomerID'].isna().sum()\n",
    "miss_desc_cust = or_df.isna().any(axis=1).sum()\n",
    "\n",
    "percent_miss_description = round(miss_description / total_number_of_rows * 100, 2)\n",
    "percent_miss_customerid = round(miss_customerid / total_number_of_rows* 100, 2)\n",
    "percent_miss_desc_cust = round(miss_desc_cust / total_number_of_rows* 100, 2)\n",
    "\n",
    "\n",
    "missing_value = pd.DataFrame({'Count': [total_number_of_rows, miss_description, miss_customerid, miss_desc_cust],\n",
    "                              'Percent': [100, percent_miss_description, percent_miss_customerid, percent_miss_desc_cust]},\n",
    "                             index=['Total Rows', 'Description', 'Customer ID', 'Total Missing Values'])\n",
    "\n",
    "missing_value['Percent'] = missing_value['Percent'].apply(lambda x: \"{:.2f}%\".format(x))\n",
    "\n",
    "missing_value"
   ]
  },
  {
   "attachments": {},
   "cell_type": "markdown",
   "metadata": {},
   "source": [
    "Menangani nilai yang ngilang pada variabel CustomerID dan Description dengan metode pengisian data."
   ]
  },
  {
   "cell_type": "code",
   "execution_count": 6,
   "metadata": {},
   "outputs": [],
   "source": [
    "# Handles Missing Values ​​from CustomerID by filling with 'Guest' values\n",
    "or_df['CustomerID'].fillna(value=0, inplace=True)\n",
    "or_df['CustomerID'] = or_df['CustomerID'].astype('int')\n",
    "or_df['CustomerID'] = or_df['CustomerID'].replace(0, 'Guest')\n",
    "or_df['CustomerID'] = or_df['CustomerID'].astype('str')\n",
    "\n",
    "# Handles Missing Values ​​from Description by filling with 'No Descriptions' values\n",
    "or_df['Description'].fillna(value='No Descriptions', inplace=True)"
   ]
  },
  {
   "attachments": {},
   "cell_type": "markdown",
   "metadata": {},
   "source": [
    "Memvalidasi hasil daripada penganganan nilai yang hilang."
   ]
  },
  {
   "cell_type": "code",
   "execution_count": 7,
   "metadata": {},
   "outputs": [
    {
     "data": {
      "text/html": [
       "<div>\n",
       "<style scoped>\n",
       "    .dataframe tbody tr th:only-of-type {\n",
       "        vertical-align: middle;\n",
       "    }\n",
       "\n",
       "    .dataframe tbody tr th {\n",
       "        vertical-align: top;\n",
       "    }\n",
       "\n",
       "    .dataframe thead th {\n",
       "        text-align: right;\n",
       "    }\n",
       "</style>\n",
       "<table border=\"1\" class=\"dataframe\">\n",
       "  <thead>\n",
       "    <tr style=\"text-align: right;\">\n",
       "      <th></th>\n",
       "      <th>Count</th>\n",
       "      <th>Percent</th>\n",
       "    </tr>\n",
       "  </thead>\n",
       "  <tbody>\n",
       "    <tr>\n",
       "      <th>Total Rows</th>\n",
       "      <td>541909</td>\n",
       "      <td>100.00%</td>\n",
       "    </tr>\n",
       "    <tr>\n",
       "      <th>Description</th>\n",
       "      <td>0</td>\n",
       "      <td>0.00%</td>\n",
       "    </tr>\n",
       "    <tr>\n",
       "      <th>Customer ID</th>\n",
       "      <td>0</td>\n",
       "      <td>0.00%</td>\n",
       "    </tr>\n",
       "    <tr>\n",
       "      <th>Total Missing Values</th>\n",
       "      <td>0</td>\n",
       "      <td>0.00%</td>\n",
       "    </tr>\n",
       "  </tbody>\n",
       "</table>\n",
       "</div>"
      ],
      "text/plain": [
       "                       Count  Percent\n",
       "Total Rows            541909  100.00%\n",
       "Description                0    0.00%\n",
       "Customer ID                0    0.00%\n",
       "Total Missing Values       0    0.00%"
      ]
     },
     "execution_count": 7,
     "metadata": {},
     "output_type": "execute_result"
    }
   ],
   "source": [
    "# Percentage of Missing Values\n",
    "total_number_of_rows = len(or_df)\n",
    "miss_description = or_df['Description'].isna().sum()\n",
    "miss_customerid = or_df['CustomerID'].isna().sum()\n",
    "miss_desc_cust = or_df.isna().any(axis=1).sum()\n",
    "\n",
    "percent_miss_description = round(miss_description / total_number_of_rows * 100, 2)\n",
    "percent_miss_customerid = round(miss_customerid / total_number_of_rows* 100, 2)\n",
    "percent_miss_desc_cust = round(miss_desc_cust / total_number_of_rows* 100, 2)\n",
    "\n",
    "\n",
    "missing_value = pd.DataFrame({'Count': [total_number_of_rows, miss_description, miss_customerid, miss_desc_cust],\n",
    "                              'Percent': [100, percent_miss_description, percent_miss_customerid, percent_miss_desc_cust]},\n",
    "                             index=['Total Rows', 'Description', 'Customer ID', 'Total Missing Values'])\n",
    "\n",
    "missing_value['Percent'] = missing_value['Percent'].apply(lambda x: \"{:.2f}%\".format(x))\n",
    "\n",
    "missing_value"
   ]
  },
  {
   "attachments": {},
   "cell_type": "markdown",
   "metadata": {},
   "source": [
    "Melakukan pengecekan data duplikat."
   ]
  },
  {
   "cell_type": "code",
   "execution_count": 8,
   "metadata": {},
   "outputs": [
    {
     "data": {
      "text/plain": [
       "5268"
      ]
     },
     "execution_count": 8,
     "metadata": {},
     "output_type": "execute_result"
    }
   ],
   "source": [
    "# Check for Duplicate Data\n",
    "or_df.duplicated().sum()"
   ]
  },
  {
   "attachments": {},
   "cell_type": "markdown",
   "metadata": {},
   "source": [
    "Menampilkan data data yang duplikat."
   ]
  },
  {
   "cell_type": "code",
   "execution_count": 9,
   "metadata": {},
   "outputs": [
    {
     "data": {
      "text/html": [
       "<div>\n",
       "<style scoped>\n",
       "    .dataframe tbody tr th:only-of-type {\n",
       "        vertical-align: middle;\n",
       "    }\n",
       "\n",
       "    .dataframe tbody tr th {\n",
       "        vertical-align: top;\n",
       "    }\n",
       "\n",
       "    .dataframe thead th {\n",
       "        text-align: right;\n",
       "    }\n",
       "</style>\n",
       "<table border=\"1\" class=\"dataframe\">\n",
       "  <thead>\n",
       "    <tr style=\"text-align: right;\">\n",
       "      <th></th>\n",
       "      <th>InvoiceNo</th>\n",
       "      <th>StockCode</th>\n",
       "      <th>Description</th>\n",
       "      <th>Quantity</th>\n",
       "      <th>InvoiceDate</th>\n",
       "      <th>UnitPrice</th>\n",
       "      <th>CustomerID</th>\n",
       "      <th>Country</th>\n",
       "    </tr>\n",
       "  </thead>\n",
       "  <tbody>\n",
       "    <tr>\n",
       "      <th>485</th>\n",
       "      <td>536409</td>\n",
       "      <td>22111</td>\n",
       "      <td>SCOTTIE DOG HOT WATER BOTTLE</td>\n",
       "      <td>1</td>\n",
       "      <td>12/01/10 11:45 AM</td>\n",
       "      <td>4.95</td>\n",
       "      <td>17908</td>\n",
       "      <td>United Kingdom</td>\n",
       "    </tr>\n",
       "    <tr>\n",
       "      <th>489</th>\n",
       "      <td>536409</td>\n",
       "      <td>22866</td>\n",
       "      <td>HAND WARMER SCOTTY DOG DESIGN</td>\n",
       "      <td>1</td>\n",
       "      <td>12/01/10 11:45 AM</td>\n",
       "      <td>2.10</td>\n",
       "      <td>17908</td>\n",
       "      <td>United Kingdom</td>\n",
       "    </tr>\n",
       "    <tr>\n",
       "      <th>494</th>\n",
       "      <td>536409</td>\n",
       "      <td>21866</td>\n",
       "      <td>UNION JACK FLAG LUGGAGE TAG</td>\n",
       "      <td>1</td>\n",
       "      <td>12/01/10 11:45 AM</td>\n",
       "      <td>1.25</td>\n",
       "      <td>17908</td>\n",
       "      <td>United Kingdom</td>\n",
       "    </tr>\n",
       "    <tr>\n",
       "      <th>517</th>\n",
       "      <td>536409</td>\n",
       "      <td>21866</td>\n",
       "      <td>UNION JACK FLAG LUGGAGE TAG</td>\n",
       "      <td>1</td>\n",
       "      <td>12/01/10 11:45 AM</td>\n",
       "      <td>1.25</td>\n",
       "      <td>17908</td>\n",
       "      <td>United Kingdom</td>\n",
       "    </tr>\n",
       "    <tr>\n",
       "      <th>521</th>\n",
       "      <td>536409</td>\n",
       "      <td>22900</td>\n",
       "      <td>SET 2 TEA TOWELS I LOVE LONDON</td>\n",
       "      <td>1</td>\n",
       "      <td>12/01/10 11:45 AM</td>\n",
       "      <td>2.95</td>\n",
       "      <td>17908</td>\n",
       "      <td>United Kingdom</td>\n",
       "    </tr>\n",
       "    <tr>\n",
       "      <th>...</th>\n",
       "      <td>...</td>\n",
       "      <td>...</td>\n",
       "      <td>...</td>\n",
       "      <td>...</td>\n",
       "      <td>...</td>\n",
       "      <td>...</td>\n",
       "      <td>...</td>\n",
       "      <td>...</td>\n",
       "    </tr>\n",
       "    <tr>\n",
       "      <th>541675</th>\n",
       "      <td>581538</td>\n",
       "      <td>22068</td>\n",
       "      <td>BLACK PIRATE TREASURE CHEST</td>\n",
       "      <td>1</td>\n",
       "      <td>12/09/11 11:34 AM</td>\n",
       "      <td>0.39</td>\n",
       "      <td>14446</td>\n",
       "      <td>United Kingdom</td>\n",
       "    </tr>\n",
       "    <tr>\n",
       "      <th>541689</th>\n",
       "      <td>581538</td>\n",
       "      <td>23318</td>\n",
       "      <td>BOX OF 6 MINI VINTAGE CRACKERS</td>\n",
       "      <td>1</td>\n",
       "      <td>12/09/11 11:34 AM</td>\n",
       "      <td>2.49</td>\n",
       "      <td>14446</td>\n",
       "      <td>United Kingdom</td>\n",
       "    </tr>\n",
       "    <tr>\n",
       "      <th>541692</th>\n",
       "      <td>581538</td>\n",
       "      <td>22992</td>\n",
       "      <td>REVOLVER WOODEN RULER</td>\n",
       "      <td>1</td>\n",
       "      <td>12/09/11 11:34 AM</td>\n",
       "      <td>1.95</td>\n",
       "      <td>14446</td>\n",
       "      <td>United Kingdom</td>\n",
       "    </tr>\n",
       "    <tr>\n",
       "      <th>541699</th>\n",
       "      <td>581538</td>\n",
       "      <td>22694</td>\n",
       "      <td>WICKER STAR</td>\n",
       "      <td>1</td>\n",
       "      <td>12/09/11 11:34 AM</td>\n",
       "      <td>2.10</td>\n",
       "      <td>14446</td>\n",
       "      <td>United Kingdom</td>\n",
       "    </tr>\n",
       "    <tr>\n",
       "      <th>541701</th>\n",
       "      <td>581538</td>\n",
       "      <td>23343</td>\n",
       "      <td>JUMBO BAG VINTAGE CHRISTMAS</td>\n",
       "      <td>1</td>\n",
       "      <td>12/09/11 11:34 AM</td>\n",
       "      <td>2.08</td>\n",
       "      <td>14446</td>\n",
       "      <td>United Kingdom</td>\n",
       "    </tr>\n",
       "  </tbody>\n",
       "</table>\n",
       "<p>10147 rows × 8 columns</p>\n",
       "</div>"
      ],
      "text/plain": [
       "       InvoiceNo StockCode                       Description  Quantity  \\\n",
       "485       536409     22111      SCOTTIE DOG HOT WATER BOTTLE         1   \n",
       "489       536409     22866     HAND WARMER SCOTTY DOG DESIGN         1   \n",
       "494       536409     21866       UNION JACK FLAG LUGGAGE TAG         1   \n",
       "517       536409     21866       UNION JACK FLAG LUGGAGE TAG         1   \n",
       "521       536409     22900   SET 2 TEA TOWELS I LOVE LONDON          1   \n",
       "...          ...       ...                               ...       ...   \n",
       "541675    581538     22068       BLACK PIRATE TREASURE CHEST         1   \n",
       "541689    581538     23318    BOX OF 6 MINI VINTAGE CRACKERS         1   \n",
       "541692    581538     22992            REVOLVER WOODEN RULER          1   \n",
       "541699    581538     22694                      WICKER STAR          1   \n",
       "541701    581538     23343      JUMBO BAG VINTAGE CHRISTMAS          1   \n",
       "\n",
       "              InvoiceDate  UnitPrice CustomerID         Country  \n",
       "485     12/01/10 11:45 AM       4.95      17908  United Kingdom  \n",
       "489     12/01/10 11:45 AM       2.10      17908  United Kingdom  \n",
       "494     12/01/10 11:45 AM       1.25      17908  United Kingdom  \n",
       "517     12/01/10 11:45 AM       1.25      17908  United Kingdom  \n",
       "521     12/01/10 11:45 AM       2.95      17908  United Kingdom  \n",
       "...                   ...        ...        ...             ...  \n",
       "541675  12/09/11 11:34 AM       0.39      14446  United Kingdom  \n",
       "541689  12/09/11 11:34 AM       2.49      14446  United Kingdom  \n",
       "541692  12/09/11 11:34 AM       1.95      14446  United Kingdom  \n",
       "541699  12/09/11 11:34 AM       2.10      14446  United Kingdom  \n",
       "541701  12/09/11 11:34 AM       2.08      14446  United Kingdom  \n",
       "\n",
       "[10147 rows x 8 columns]"
      ]
     },
     "execution_count": 9,
     "metadata": {},
     "output_type": "execute_result"
    }
   ],
   "source": [
    "# Duplicate Data\n",
    "dup = or_df[or_df.duplicated(keep=False)]\n",
    "dup"
   ]
  },
  {
   "attachments": {},
   "cell_type": "markdown",
   "metadata": {},
   "source": [
    "Menangadi data duplikat dengan menghapusnya."
   ]
  },
  {
   "cell_type": "code",
   "execution_count": 10,
   "metadata": {},
   "outputs": [
    {
     "data": {
      "text/plain": [
       "0"
      ]
     },
     "execution_count": 10,
     "metadata": {},
     "output_type": "execute_result"
    }
   ],
   "source": [
    "# Drop Duplicate Data\n",
    "or_df = or_df.drop_duplicates(keep='first')\n",
    "or_df.duplicated().sum()"
   ]
  },
  {
   "attachments": {},
   "cell_type": "markdown",
   "metadata": {},
   "source": [
    "Menambahkan variabel TotalPrices pada dataframe."
   ]
  },
  {
   "cell_type": "code",
   "execution_count": 11,
   "metadata": {},
   "outputs": [
    {
     "data": {
      "text/html": [
       "<div>\n",
       "<style scoped>\n",
       "    .dataframe tbody tr th:only-of-type {\n",
       "        vertical-align: middle;\n",
       "    }\n",
       "\n",
       "    .dataframe tbody tr th {\n",
       "        vertical-align: top;\n",
       "    }\n",
       "\n",
       "    .dataframe thead th {\n",
       "        text-align: right;\n",
       "    }\n",
       "</style>\n",
       "<table border=\"1\" class=\"dataframe\">\n",
       "  <thead>\n",
       "    <tr style=\"text-align: right;\">\n",
       "      <th></th>\n",
       "      <th>InvoiceNo</th>\n",
       "      <th>InvoiceDate</th>\n",
       "      <th>CustomerID</th>\n",
       "      <th>Country</th>\n",
       "      <th>StockCode</th>\n",
       "      <th>Description</th>\n",
       "      <th>Quantity</th>\n",
       "      <th>UnitPrice</th>\n",
       "      <th>TotalPrices</th>\n",
       "    </tr>\n",
       "  </thead>\n",
       "  <tbody>\n",
       "    <tr>\n",
       "      <th>0</th>\n",
       "      <td>536365</td>\n",
       "      <td>12/01/10 08:26 AM</td>\n",
       "      <td>17850</td>\n",
       "      <td>United Kingdom</td>\n",
       "      <td>85123A</td>\n",
       "      <td>WHITE HANGING HEART T-LIGHT HOLDER</td>\n",
       "      <td>6</td>\n",
       "      <td>2.55</td>\n",
       "      <td>15.30</td>\n",
       "    </tr>\n",
       "    <tr>\n",
       "      <th>1</th>\n",
       "      <td>536365</td>\n",
       "      <td>12/01/10 08:26 AM</td>\n",
       "      <td>17850</td>\n",
       "      <td>United Kingdom</td>\n",
       "      <td>71053</td>\n",
       "      <td>WHITE METAL LANTERN</td>\n",
       "      <td>6</td>\n",
       "      <td>3.39</td>\n",
       "      <td>20.34</td>\n",
       "    </tr>\n",
       "    <tr>\n",
       "      <th>2</th>\n",
       "      <td>536365</td>\n",
       "      <td>12/01/10 08:26 AM</td>\n",
       "      <td>17850</td>\n",
       "      <td>United Kingdom</td>\n",
       "      <td>84406B</td>\n",
       "      <td>CREAM CUPID HEARTS COAT HANGER</td>\n",
       "      <td>8</td>\n",
       "      <td>2.75</td>\n",
       "      <td>22.00</td>\n",
       "    </tr>\n",
       "    <tr>\n",
       "      <th>3</th>\n",
       "      <td>536365</td>\n",
       "      <td>12/01/10 08:26 AM</td>\n",
       "      <td>17850</td>\n",
       "      <td>United Kingdom</td>\n",
       "      <td>84029G</td>\n",
       "      <td>KNITTED UNION FLAG HOT WATER BOTTLE</td>\n",
       "      <td>6</td>\n",
       "      <td>3.39</td>\n",
       "      <td>20.34</td>\n",
       "    </tr>\n",
       "    <tr>\n",
       "      <th>4</th>\n",
       "      <td>536365</td>\n",
       "      <td>12/01/10 08:26 AM</td>\n",
       "      <td>17850</td>\n",
       "      <td>United Kingdom</td>\n",
       "      <td>84029E</td>\n",
       "      <td>RED WOOLLY HOTTIE WHITE HEART.</td>\n",
       "      <td>6</td>\n",
       "      <td>3.39</td>\n",
       "      <td>20.34</td>\n",
       "    </tr>\n",
       "    <tr>\n",
       "      <th>...</th>\n",
       "      <td>...</td>\n",
       "      <td>...</td>\n",
       "      <td>...</td>\n",
       "      <td>...</td>\n",
       "      <td>...</td>\n",
       "      <td>...</td>\n",
       "      <td>...</td>\n",
       "      <td>...</td>\n",
       "      <td>...</td>\n",
       "    </tr>\n",
       "    <tr>\n",
       "      <th>536636</th>\n",
       "      <td>581587</td>\n",
       "      <td>12/09/11 12:50 PM</td>\n",
       "      <td>12680</td>\n",
       "      <td>France</td>\n",
       "      <td>22613</td>\n",
       "      <td>PACK OF 20 SPACEBOY NAPKINS</td>\n",
       "      <td>12</td>\n",
       "      <td>0.85</td>\n",
       "      <td>10.20</td>\n",
       "    </tr>\n",
       "    <tr>\n",
       "      <th>536637</th>\n",
       "      <td>581587</td>\n",
       "      <td>12/09/11 12:50 PM</td>\n",
       "      <td>12680</td>\n",
       "      <td>France</td>\n",
       "      <td>22899</td>\n",
       "      <td>CHILDREN'S APRON DOLLY GIRL</td>\n",
       "      <td>6</td>\n",
       "      <td>2.10</td>\n",
       "      <td>12.60</td>\n",
       "    </tr>\n",
       "    <tr>\n",
       "      <th>536638</th>\n",
       "      <td>581587</td>\n",
       "      <td>12/09/11 12:50 PM</td>\n",
       "      <td>12680</td>\n",
       "      <td>France</td>\n",
       "      <td>23254</td>\n",
       "      <td>CHILDRENS CUTLERY DOLLY GIRL</td>\n",
       "      <td>4</td>\n",
       "      <td>4.15</td>\n",
       "      <td>16.60</td>\n",
       "    </tr>\n",
       "    <tr>\n",
       "      <th>536639</th>\n",
       "      <td>581587</td>\n",
       "      <td>12/09/11 12:50 PM</td>\n",
       "      <td>12680</td>\n",
       "      <td>France</td>\n",
       "      <td>23255</td>\n",
       "      <td>CHILDRENS CUTLERY CIRCUS PARADE</td>\n",
       "      <td>4</td>\n",
       "      <td>4.15</td>\n",
       "      <td>16.60</td>\n",
       "    </tr>\n",
       "    <tr>\n",
       "      <th>536640</th>\n",
       "      <td>581587</td>\n",
       "      <td>12/09/11 12:50 PM</td>\n",
       "      <td>12680</td>\n",
       "      <td>France</td>\n",
       "      <td>22138</td>\n",
       "      <td>BAKING SET 9 PIECE RETROSPOT</td>\n",
       "      <td>3</td>\n",
       "      <td>4.95</td>\n",
       "      <td>14.85</td>\n",
       "    </tr>\n",
       "  </tbody>\n",
       "</table>\n",
       "<p>536641 rows × 9 columns</p>\n",
       "</div>"
      ],
      "text/plain": [
       "       InvoiceNo        InvoiceDate CustomerID         Country StockCode  \\\n",
       "0         536365  12/01/10 08:26 AM      17850  United Kingdom    85123A   \n",
       "1         536365  12/01/10 08:26 AM      17850  United Kingdom     71053   \n",
       "2         536365  12/01/10 08:26 AM      17850  United Kingdom    84406B   \n",
       "3         536365  12/01/10 08:26 AM      17850  United Kingdom    84029G   \n",
       "4         536365  12/01/10 08:26 AM      17850  United Kingdom    84029E   \n",
       "...          ...                ...        ...             ...       ...   \n",
       "536636    581587  12/09/11 12:50 PM      12680          France     22613   \n",
       "536637    581587  12/09/11 12:50 PM      12680          France     22899   \n",
       "536638    581587  12/09/11 12:50 PM      12680          France     23254   \n",
       "536639    581587  12/09/11 12:50 PM      12680          France     23255   \n",
       "536640    581587  12/09/11 12:50 PM      12680          France     22138   \n",
       "\n",
       "                                Description  Quantity  UnitPrice  TotalPrices  \n",
       "0        WHITE HANGING HEART T-LIGHT HOLDER         6       2.55        15.30  \n",
       "1                       WHITE METAL LANTERN         6       3.39        20.34  \n",
       "2            CREAM CUPID HEARTS COAT HANGER         8       2.75        22.00  \n",
       "3       KNITTED UNION FLAG HOT WATER BOTTLE         6       3.39        20.34  \n",
       "4            RED WOOLLY HOTTIE WHITE HEART.         6       3.39        20.34  \n",
       "...                                     ...       ...        ...          ...  \n",
       "536636          PACK OF 20 SPACEBOY NAPKINS        12       0.85        10.20  \n",
       "536637         CHILDREN'S APRON DOLLY GIRL          6       2.10        12.60  \n",
       "536638        CHILDRENS CUTLERY DOLLY GIRL          4       4.15        16.60  \n",
       "536639      CHILDRENS CUTLERY CIRCUS PARADE         4       4.15        16.60  \n",
       "536640        BAKING SET 9 PIECE RETROSPOT          3       4.95        14.85  \n",
       "\n",
       "[536641 rows x 9 columns]"
      ]
     },
     "execution_count": 11,
     "metadata": {},
     "output_type": "execute_result"
    }
   ],
   "source": [
    "# Add new column TotalPrices = Quantity * UnitPrice\n",
    "or_df['TotalPrices'] = or_df['Quantity'] * or_df['UnitPrice']\n",
    "\n",
    "# Re-order Feature\n",
    "cl_df = or_df[['InvoiceNo', 'InvoiceDate', 'CustomerID', 'Country', 'StockCode', 'Description', 'Quantity', 'UnitPrice', 'TotalPrices']]\n",
    "cl_df = cl_df.reset_index(drop=True)\n",
    "cl_df"
   ]
  },
  {
   "attachments": {},
   "cell_type": "markdown",
   "metadata": {},
   "source": [
    "Melihat informasi data."
   ]
  },
  {
   "cell_type": "code",
   "execution_count": 12,
   "metadata": {},
   "outputs": [
    {
     "name": "stdout",
     "output_type": "stream",
     "text": [
      "<class 'pandas.core.frame.DataFrame'>\n",
      "RangeIndex: 536641 entries, 0 to 536640\n",
      "Data columns (total 9 columns):\n",
      " #   Column       Non-Null Count   Dtype  \n",
      "---  ------       --------------   -----  \n",
      " 0   InvoiceNo    536641 non-null  object \n",
      " 1   InvoiceDate  536641 non-null  object \n",
      " 2   CustomerID   536641 non-null  object \n",
      " 3   Country      536641 non-null  object \n",
      " 4   StockCode    536641 non-null  object \n",
      " 5   Description  536641 non-null  object \n",
      " 6   Quantity     536641 non-null  int64  \n",
      " 7   UnitPrice    536641 non-null  float64\n",
      " 8   TotalPrices  536641 non-null  float64\n",
      "dtypes: float64(2), int64(1), object(6)\n",
      "memory usage: 36.8+ MB\n"
     ]
    }
   ],
   "source": [
    "cl_df.info()"
   ]
  },
  {
   "attachments": {},
   "cell_type": "markdown",
   "metadata": {},
   "source": [
    "Merubah tipe data pada variabel InvoiceDate."
   ]
  },
  {
   "cell_type": "code",
   "execution_count": 13,
   "metadata": {},
   "outputs": [
    {
     "name": "stdout",
     "output_type": "stream",
     "text": [
      "<class 'pandas.core.frame.DataFrame'>\n",
      "RangeIndex: 536641 entries, 0 to 536640\n",
      "Data columns (total 9 columns):\n",
      " #   Column       Non-Null Count   Dtype         \n",
      "---  ------       --------------   -----         \n",
      " 0   InvoiceNo    536641 non-null  object        \n",
      " 1   InvoiceDate  536641 non-null  datetime64[ns]\n",
      " 2   CustomerID   536641 non-null  object        \n",
      " 3   Country      536641 non-null  object        \n",
      " 4   StockCode    536641 non-null  object        \n",
      " 5   Description  536641 non-null  object        \n",
      " 6   Quantity     536641 non-null  int64         \n",
      " 7   UnitPrice    536641 non-null  float64       \n",
      " 8   TotalPrices  536641 non-null  float64       \n",
      "dtypes: datetime64[ns](1), float64(2), int64(1), object(5)\n",
      "memory usage: 36.8+ MB\n"
     ]
    }
   ],
   "source": [
    "# Change Dtype\n",
    "cl_df['InvoiceDate'] = pd.to_datetime(cl_df['InvoiceDate'])\n",
    "cl_df.info()"
   ]
  },
  {
   "cell_type": "markdown",
   "metadata": {},
   "source": [
    "##### **Data Visualization**"
   ]
  },
  {
   "attachments": {},
   "cell_type": "markdown",
   "metadata": {},
   "source": [
    "Membuat visualisasi data berdasarkan pertanyaan umum"
   ]
  },
  {
   "attachments": {},
   "cell_type": "markdown",
   "metadata": {},
   "source": [
    "1. Negara mana yang memiliki transaksi terbanyak? "
   ]
  },
  {
   "cell_type": "code",
   "execution_count": 14,
   "metadata": {},
   "outputs": [
    {
     "data": {
      "image/png": "[encoded data removed]",
      "text/plain": [
       "<Figure size 640x480 with 1 Axes>"
      ]
     },
     "metadata": {},
     "output_type": "display_data"
    }
   ],
   "source": [
    "# Top 10 Sales by Country\n",
    "\n",
    "sales_by_country = cl_df.groupby('Country')['TotalPrices'].sum().sort_values(ascending=False)\n",
    "sales_by_country = sales_by_country.head(10)\n",
    " \n",
    "ax = sales_by_country.plot.bar()\n",
    "\n",
    "plt.bar(sales_by_country.index, sales_by_country.values)\n",
    "\n",
    "ax.set_xlabel('Country')\n",
    "ax.set_ylabel('Total')\n",
    "ax.set_title('Top 10 Sales by Country')\n",
    "\n",
    "# Add the count values to the bars\n",
    "for i, v in enumerate(sales_by_country.values):\n",
    "    ax.text(i, v + 100000, str(v), ha='center')\n",
    "plt.subplots_adjust(right=2.5, top=1)"
   ]
  },
  {
   "attachments": {},
   "cell_type": "markdown",
   "metadata": {},
   "source": [
    "2. Produk apa yang paling laris?"
   ]
  },
  {
   "cell_type": "code",
   "execution_count": 15,
   "metadata": {},
   "outputs": [
    {
     "data": {
      "image/png": "[encoded data removed]",
      "text/plain": [
       "<Figure size 640x480 with 1 Axes>"
      ]
     },
     "metadata": {},
     "output_type": "display_data"
    }
   ],
   "source": [
    "# Top 5 Sales by Product\n",
    "\n",
    "sales_by_product = cl_df.groupby('Description')['Quantity'].sum().sort_values(ascending=False)\n",
    "sales_by_product = sales_by_product.head(5)\n",
    " \n",
    "ax = sales_by_product.plot.bar()\n",
    "\n",
    "plt.bar(sales_by_product.index, sales_by_product.values)\n",
    "\n",
    "ax.set_xlabel('Products')\n",
    "ax.set_ylabel('Count')\n",
    "ax.set_title('Top 5 Sales by Product')\n",
    "\n",
    "# Add the count values to the bars\n",
    "for i, v in enumerate(sales_by_product.values):\n",
    "    ax.text(i, v + 500, str(v), ha='center')\n",
    "plt.subplots_adjust(right=2.5, top=1)\n"
   ]
  },
  {
   "attachments": {},
   "cell_type": "markdown",
   "metadata": {},
   "source": [
    "3. Pelanggan mana yang paling banyak berbelanja?"
   ]
  },
  {
   "cell_type": "code",
   "execution_count": 16,
   "metadata": {},
   "outputs": [
    {
     "data": {
      "image/png": "[encoded data removed]",
      "text/plain": [
       "<Figure size 640x480 with 1 Axes>"
      ]
     },
     "metadata": {},
     "output_type": "display_data"
    }
   ],
   "source": [
    "# Top 5 Buyer\n",
    "\n",
    "monthly_data = cl_df.groupby('CustomerID')['TotalPrices'].sum().sort_values(ascending=False)\n",
    "monthly_data = monthly_data.head(5)\n",
    " \n",
    "ax = monthly_data.plot.bar()\n",
    "\n",
    "plt.bar(monthly_data.index, monthly_data.values)\n",
    "\n",
    "ax.set_xlabel('Customer ID')\n",
    "ax.set_ylabel('Total')\n",
    "ax.set_title('Top 5 Buyer')\n",
    "\n",
    "# Add the count values to the bars\n",
    "for i, v in enumerate(monthly_data.values):\n",
    "    ax.text(i, v + 3000, str(v), ha='center')\n",
    "plt.subplots_adjust(right=2.5, top=1)"
   ]
  },
  {
   "attachments": {},
   "cell_type": "markdown",
   "metadata": {},
   "source": [
    "4. Bagaimana siklus penjualan setiap bulannya?"
   ]
  },
  {
   "cell_type": "code",
   "execution_count": 17,
   "metadata": {},
   "outputs": [
    {
     "name": "stderr",
     "output_type": "stream",
     "text": [
      "/var/folders/ns/342r4y8j1ss3gs05mnjypws00000gn/T/ipykernel_82436/2350546138.py:2: FutureWarning: The default value of numeric_only in DataFrameGroupBy.sum is deprecated. In a future version, numeric_only will default to False. Either specify numeric_only or select only columns which should be valid for the function.\n",
      "  monthly_data = cl_df.resample('M', on='InvoiceDate').sum()\n"
     ]
    },
    {
     "data": {
      "image/png": "[encoded data removed]",
      "text/plain": [
       "<Figure size 640x480 with 1 Axes>"
      ]
     },
     "metadata": {},
     "output_type": "display_data"
    }
   ],
   "source": [
    "# Group the data by month and sum the Quantity and TotalPrices values for each month\n",
    "monthly_data = cl_df.resample('M', on='InvoiceDate').sum()\n",
    "\n",
    "# Create a line chart of the monthly Quantity and TotalPrices values\n",
    "ax = monthly_data.plot(y=['TotalPrices'], kind='line')\n",
    "ax.set_xlabel('Month')\n",
    "ax.set_ylabel('Value')\n",
    "ax.set_title('Monthly Income')\n",
    "\n",
    "plt.subplots_adjust(right=2.5, top=1)"
   ]
  },
  {
   "attachments": {},
   "cell_type": "markdown",
   "metadata": {},
   "source": [
    "5. Berapa rata-rata siklus penjualan setiap harinya?"
   ]
  },
  {
   "cell_type": "code",
   "execution_count": 18,
   "metadata": {},
   "outputs": [
    {
     "data": {
      "image/png": "[encoded data removed]",
      "text/plain": [
       "<Figure size 640x480 with 1 Axes>"
      ]
     },
     "metadata": {},
     "output_type": "display_data"
    }
   ],
   "source": [
    "# Group the data by day and average the Quantity and TotalPrices values for each month\n",
    "daily_data = cl_df.groupby(cl_df['InvoiceDate'].dt.day)['TotalPrices'].mean()\n",
    "\n",
    "# Create a line chart of the monthly Quantity and TotalPrices values\n",
    "ax = daily_data.plot(y=['TotalPrices'], kind='line')\n",
    "ax.set_xlabel('Days')\n",
    "ax.set_ylabel('Value')\n",
    "ax.set_title('Average Daily Income')\n",
    "\n",
    "plt.subplots_adjust(right=2.5, top=1)"
   ]
  },
  {
   "attachments": {},
   "cell_type": "markdown",
   "metadata": {},
   "source": [
    "6. Bagaimana trend penjualan harian dalam satu tahun?"
   ]
  },
  {
   "cell_type": "code",
   "execution_count": 19,
   "metadata": {},
   "outputs": [
    {
     "name": "stderr",
     "output_type": "stream",
     "text": [
      "/var/folders/ns/342r4y8j1ss3gs05mnjypws00000gn/T/ipykernel_82436/2962807195.py:4: FutureWarning: The default value of numeric_only in DataFrameGroupBy.sum is deprecated. In a future version, numeric_only will default to False. Either specify numeric_only or select only columns which should be valid for the function.\n",
      "  sumbyday_cl_df = cl_df.groupby(pd.Grouper(key='InvoiceDate', freq='D')).sum().reset_index()\n"
     ]
    },
    {
     "data": {
      "application/vnd.plotly.v1+json": {
       "config": {
        "plotlyServerURL": "https://plot.ly"
       },
       "data": [
        {
         "hovertemplate": "variable=TotalPrices<br>InvoiceDate=%{x}<br>value=%{y}<extra></extra>",
         "legendgroup": "TotalPrices",
         "line": {
          "color": "#636efa",
          "dash": "solid"
         },
         "marker": {
          "symbol": "circle"
         },
         "mode": "lines",
         "name": "TotalPrices",
         "orientation": "v",
         "showlegend": true,
         "type": "scatter",
         "x": [
          "2010-12-01T00:00:00",
          "2010-12-02T00:00:00",
          "2010-12-03T00:00:00",
          "2010-12-04T00:00:00",
          "2010-12-05T00:00:00",
          "2010-12-06T00:00:00",
          "2010-12-07T00:00:00",
          "2010-12-08T00:00:00",
          "2010-12-09T00:00:00",
          "2010-12-10T00:00:00",
          "2010-12-11T00:00:00",
          "2010-12-12T00:00:00",
          "2010-12-13T00:00:00",
          "2010-12-14T00:00:00",
          "2010-12-15T00:00:00",
          "2010-12-16T00:00:00",
          "2010-12-17T00:00:00",
          "2010-12-18T00:00:00",
          "2010-12-19T00:00:00",
          "2010-12-20T00:00:00",
          "2010-12-21T00:00:00",
          "2010-12-22T00:00:00",
          "2010-12-23T00:00:00",
          "2010-12-24T00:00:00",
          "2010-12-25T00:00:00",
          "2010-12-26T00:00:00",
          "2010-12-27T00:00:00",
          "2010-12-28T00:00:00",
          "2010-12-29T00:00:00",
          "2010-12-30T00:00:00",
          "2010-12-31T00:00:00",
          "2011-01-01T00:00:00",
          "2011-01-02T00:00:00",
          "2011-01-03T00:00:00",
          "2011-01-04T00:00:00",
          "2011-01-05T00:00:00",
          "2011-01-06T00:00:00",
          "2011-01-07T00:00:00",
          "2011-01-08T00:00:00",
          "2011-01-09T00:00:00",
          "2011-01-10T00:00:00",
          "2011-01-11T00:00:00",
          "2011-01-12T00:00:00",
          "2011-01-13T00:00:00",
          "2011-01-14T00:00:00",
          "2011-01-15T00:00:00",
          "2011-01-16T00:00:00",
          "2011-01-17T00:00:00",
          "2011-01-18T00:00:00",
          "2011-01-19T00:00:00",
          "2011-01-20T00:00:00",
          "2011-01-21T00:00:00",
          "2011-01-22T00:00:00",
          "2011-01-23T00:00:00",
          "2011-01-24T00:00:00",
          "2011-01-25T00:00:00",
          "2011-01-26T00:00:00",
          "2011-01-27T00:00:00",
          "2011-01-28T00:00:00",
          "2011-01-29T00:00:00",
          "2011-01-30T00:00:00",
          "2011-01-31T00:00:00",
          "2011-02-01T00:00:00",
          "2011-02-02T00:00:00",
          "2011-02-03T00:00:00",
          "2011-02-04T00:00:00",
          "2011-02-05T00:00:00",
          "2011-02-06T00:00:00",
          "2011-02-07T00:00:00",
          "2011-02-08T00:00:00",
          "2011-02-09T00:00:00",
          "2011-02-10T00:00:00",
          "2011-02-11T00:00:00",
          "2011-02-12T00:00:00",
          "2011-02-13T00:00:00",
          "2011-02-14T00:00:00",
          "2011-02-15T00:00:00",
          "2011-02-16T00:00:00",
          "2011-02-17T00:00:00",
          "2011-02-18T00:00:00",
          "2011-02-19T00:00:00",
          "2011-02-20T00:00:00",
          "2011-02-21T00:00:00",
          "2011-02-22T00:00:00",
          "2011-02-23T00:00:00",
          "2011-02-24T00:00:00",
          "2011-02-25T00:00:00",
          "2011-02-26T00:00:00",
          "2011-02-27T00:00:00",
          "2011-02-28T00:00:00",
          "2011-03-01T00:00:00",
          "2011-03-02T00:00:00",
          "2011-03-03T00:00:00",
          "2011-03-04T00:00:00",
          "2011-03-05T00:00:00",
          "2011-03-06T00:00:00",
          "2011-03-07T00:00:00",
          "2011-03-08T00:00:00",
          "2011-03-09T00:00:00",
          "2011-03-10T00:00:00",
          "2011-03-11T00:00:00",
          "2011-03-12T00:00:00",
          "2011-03-13T00:00:00",
          "2011-03-14T00:00:00",
          "2011-03-15T00:00:00",
          "2011-03-16T00:00:00",
          "2011-03-17T00:00:00",
          "2011-03-18T00:00:00",
          "2011-03-19T00:00:00",
          "2011-03-20T00:00:00",
          "2011-03-21T00:00:00",
          "2011-03-22T00:00:00",
          "2011-03-23T00:00:00",
          "2011-03-24T00:00:00",
          "2011-03-25T00:00:00",
          "2011-03-26T00:00:00",
          "2011-03-27T00:00:00",
          "2011-03-28T00:00:00",
          "2011-03-29T00:00:00",
          "2011-03-30T00:00:00",
          "2011-03-31T00:00:00",
          "2011-04-01T00:00:00",
          "2011-04-02T00:00:00",
          "2011-04-03T00:00:00",
          "2011-04-04T00:00:00",
          "2011-04-05T00:00:00",
          "2011-04-06T00:00:00",
          "2011-04-07T00:00:00",
          "2011-04-08T00:00:00",
          "2011-04-09T00:00:00",
          "2011-04-10T00:00:00",
          "2011-04-11T00:00:00",
          "2011-04-12T00:00:00",
          "2011-04-13T00:00:00",
          "2011-04-14T00:00:00",
          "2011-04-15T00:00:00",
          "2011-04-16T00:00:00",
          "2011-04-17T00:00:00",
          "2011-04-18T00:00:00",
          "2011-04-19T00:00:00",
          "2011-04-20T00:00:00",
          "2011-04-21T00:00:00",
          "2011-04-22T00:00:00",
          "2011-04-23T00:00:00",
          "2011-04-24T00:00:00",
          "2011-04-25T00:00:00",
          "2011-04-26T00:00:00",
          "2011-04-27T00:00:00",
          "2011-04-28T00:00:00",
          "2011-04-29T00:00:00",
          "2011-04-30T00:00:00",
          "2011-05-01T00:00:00",
          "2011-05-02T00:00:00",
          "2011-05-03T00:00:00",
          "2011-05-04T00:00:00",
          "2011-05-05T00:00:00",
          "2011-05-06T00:00:00",
          "2011-05-07T00:00:00",
          "2011-05-08T00:00:00",
          "2011-05-09T00:00:00",
          "2011-05-10T00:00:00",
          "2011-05-11T00:00:00",
          "2011-05-12T00:00:00",
          "2011-05-13T00:00:00",
          "2011-05-14T00:00:00",
          "2011-05-15T00:00:00",
          "2011-05-16T00:00:00",
          "2011-05-17T00:00:00",
          "2011-05-18T00:00:00",
          "2011-05-19T00:00:00",
          "2011-05-20T00:00:00",
          "2011-05-21T00:00:00",
          "2011-05-22T00:00:00",
          "2011-05-23T00:00:00",
          "2011-05-24T00:00:00",
          "2011-05-25T00:00:00",
          "2011-05-26T00:00:00",
          "2011-05-27T00:00:00",
          "2011-05-28T00:00:00",
          "2011-05-29T00:00:00",
          "2011-05-30T00:00:00",
          "2011-05-31T00:00:00",
          "2011-06-01T00:00:00",
          "2011-06-02T00:00:00",
          "2011-06-03T00:00:00",
          "2011-06-04T00:00:00",
          "2011-06-05T00:00:00",
          "2011-06-06T00:00:00",
          "2011-06-07T00:00:00",
          "2011-06-08T00:00:00",
          "2011-06-09T00:00:00",
          "2011-06-10T00:00:00",
          "2011-06-11T00:00:00",
          "2011-06-12T00:00:00",
          "2011-06-13T00:00:00",
          "2011-06-14T00:00:00",
          "2011-06-15T00:00:00",
          "2011-06-16T00:00:00",
          "2011-06-17T00:00:00",
          "2011-06-18T00:00:00",
          "2011-06-19T00:00:00",
          "2011-06-20T00:00:00",
          "2011-06-21T00:00:00",
          "2011-06-22T00:00:00",
          "2011-06-23T00:00:00",
          "2011-06-24T00:00:00",
          "2011-06-25T00:00:00",
          "2011-06-26T00:00:00",
          "2011-06-27T00:00:00",
          "2011-06-28T00:00:00",
          "2011-06-29T00:00:00",
          "2011-06-30T00:00:00",
          "2011-07-01T00:00:00",
          "2011-07-02T00:00:00",
          "2011-07-03T00:00:00",
          "2011-07-04T00:00:00",
          "2011-07-05T00:00:00",
          "2011-07-06T00:00:00",
          "2011-07-07T00:00:00",
          "2011-07-08T00:00:00",
          "2011-07-09T00:00:00",
          "2011-07-10T00:00:00",
          "2011-07-11T00:00:00",
          "2011-07-12T00:00:00",
          "2011-07-13T00:00:00",
          "2011-07-14T00:00:00",
          "2011-07-15T00:00:00",
          "2011-07-16T00:00:00",
          "2011-07-17T00:00:00",
          "2011-07-18T00:00:00",
          "2011-07-19T00:00:00",
          "2011-07-20T00:00:00",
          "2011-07-21T00:00:00",
          "2011-07-22T00:00:00",
          "2011-07-23T00:00:00",
          "2011-07-24T00:00:00",
          "2011-07-25T00:00:00",
          "2011-07-26T00:00:00",
          "2011-07-27T00:00:00",
          "2011-07-28T00:00:00",
          "2011-07-29T00:00:00",
          "2011-07-30T00:00:00",
          "2011-07-31T00:00:00",
          "2011-08-01T00:00:00",
          "2011-08-02T00:00:00",
          "2011-08-03T00:00:00",
          "2011-08-04T00:00:00",
          "2011-08-05T00:00:00",
          "2011-08-06T00:00:00",
          "2011-08-07T00:00:00",
          "2011-08-08T00:00:00",
          "2011-08-09T00:00:00",
          "2011-08-10T00:00:00",
          "2011-08-11T00:00:00",
          "2011-08-12T00:00:00",
          "2011-08-13T00:00:00",
          "2011-08-14T00:00:00",
          "2011-08-15T00:00:00",
          "2011-08-16T00:00:00",
          "2011-08-17T00:00:00",
          "2011-08-18T00:00:00",
          "2011-08-19T00:00:00",
          "2011-08-20T00:00:00",
          "2011-08-21T00:00:00",
          "2011-08-22T00:00:00",
          "2011-08-23T00:00:00",
          "2011-08-24T00:00:00",
          "2011-08-25T00:00:00",
          "2011-08-26T00:00:00",
          "2011-08-27T00:00:00",
          "2011-08-28T00:00:00",
          "2011-08-29T00:00:00",
          "2011-08-30T00:00:00",
          "2011-08-31T00:00:00",
          "2011-09-01T00:00:00",
          "2011-09-02T00:00:00",
          "2011-09-03T00:00:00",
          "2011-09-04T00:00:00",
          "2011-09-05T00:00:00",
          "2011-09-06T00:00:00",
          "2011-09-07T00:00:00",
          "2011-09-08T00:00:00",
          "2011-09-09T00:00:00",
          "2011-09-10T00:00:00",
          "2011-09-11T00:00:00",
          "2011-09-12T00:00:00",
          "2011-09-13T00:00:00",
          "2011-09-14T00:00:00",
          "2011-09-15T00:00:00",
          "2011-09-16T00:00:00",
          "2011-09-17T00:00:00",
          "2011-09-18T00:00:00",
          "2011-09-19T00:00:00",
          "2011-09-20T00:00:00",
          "2011-09-21T00:00:00",
          "2011-09-22T00:00:00",
          "2011-09-23T00:00:00",
          "2011-09-24T00:00:00",
          "2011-09-25T00:00:00",
          "2011-09-26T00:00:00",
          "2011-09-27T00:00:00",
          "2011-09-28T00:00:00",
          "2011-09-29T00:00:00",
          "2011-09-30T00:00:00",
          "2011-10-01T00:00:00",
          "2011-10-02T00:00:00",
          "2011-10-03T00:00:00",
          "2011-10-04T00:00:00",
          "2011-10-05T00:00:00",
          "2011-10-06T00:00:00",
          "2011-10-07T00:00:00",
          "2011-10-08T00:00:00",
          "2011-10-09T00:00:00",
          "2011-10-10T00:00:00",
          "2011-10-11T00:00:00",
          "2011-10-12T00:00:00",
          "2011-10-13T00:00:00",
          "2011-10-14T00:00:00",
          "2011-10-15T00:00:00",
          "2011-10-16T00:00:00",
          "2011-10-17T00:00:00",
          "2011-10-18T00:00:00",
          "2011-10-19T00:00:00",
          "2011-10-20T00:00:00",
          "2011-10-21T00:00:00",
          "2011-10-22T00:00:00",
          "2011-10-23T00:00:00",
          "2011-10-24T00:00:00",
          "2011-10-25T00:00:00",
          "2011-10-26T00:00:00",
          "2011-10-27T00:00:00",
          "2011-10-28T00:00:00",
          "2011-10-29T00:00:00",
          "2011-10-30T00:00:00",
          "2011-10-31T00:00:00",
          "2011-11-01T00:00:00",
          "2011-11-02T00:00:00",
          "2011-11-03T00:00:00",
          "2011-11-04T00:00:00",
          "2011-11-05T00:00:00",
          "2011-11-06T00:00:00",
          "2011-11-07T00:00:00",
          "2011-11-08T00:00:00",
          "2011-11-09T00:00:00",
          "2011-11-10T00:00:00",
          "2011-11-11T00:00:00",
          "2011-11-12T00:00:00",
          "2011-11-13T00:00:00",
          "2011-11-14T00:00:00",
          "2011-11-15T00:00:00",
          "2011-11-16T00:00:00",
          "2011-11-17T00:00:00",
          "2011-11-18T00:00:00",
          "2011-11-19T00:00:00",
          "2011-11-20T00:00:00",
          "2011-11-21T00:00:00",
          "2011-11-22T00:00:00",
          "2011-11-23T00:00:00",
          "2011-11-24T00:00:00",
          "2011-11-25T00:00:00",
          "2011-11-26T00:00:00",
          "2011-11-27T00:00:00",
          "2011-11-28T00:00:00",
          "2011-11-29T00:00:00",
          "2011-11-30T00:00:00",
          "2011-12-01T00:00:00",
          "2011-12-02T00:00:00",
          "2011-12-03T00:00:00",
          "2011-12-04T00:00:00",
          "2011-12-05T00:00:00",
          "2011-12-06T00:00:00",
          "2011-12-07T00:00:00",
          "2011-12-08T00:00:00",
          "2011-12-09T00:00:00"
         ],
         "xaxis": "x",
         "y": [
          58451.56,
          46088.32,
          45575.38,
          0,
          30973.63,
          53653.87,
          44994.7,
          44035.22,
          52494.14,
          57303.01,
          0,
          17037.5,
          35315,
          42756.12,
          29383.44,
          48095.590000000004,
          43453.99,
          0,
          7392.87,
          24718.85,
          47073.74,
          6134.570000000001,
          11792.11,
          0,
          0,
          0,
          0,
          0,
          0,
          0,
          0,
          0,
          0,
          0,
          14930.13,
          -1570.43,
          37376.34,
          27233.14,
          0,
          15524.53,
          24175.64,
          67792.08,
          23929.579999999998,
          20521.69,
          47354.94,
          0,
          6850.94,
          29185.7,
          18650.479999999996,
          25525.81,
          17948.26,
          31974.69,
          0,
          10191.8,
          25316.32,
          27846.6,
          19426.95,
          20985.6,
          18541.47,
          0,
          6383.3,
          22353,
          28411.52,
          20994.37,
          23332.48,
          24967.82,
          0,
          3439.67,
          25493.95,
          20713.45,
          16682.63,
          13399.24,
          20367.78,
          0,
          5467.25,
          26212.93,
          36808.55,
          24645.56,
          26346.72,
          15904.07,
          0,
          9392,
          23740.22,
          32248.77,
          26760.66,
          22646.88,
          18029.29,
          0,
          9347.26,
          21673.34,
          25461.43,
          18275.6,
          35805.76,
          19454.95,
          0,
          9550.48,
          30487.75,
          24970.97,
          21881.48,
          25595.94,
          21994.03,
          0,
          4106.72,
          25721.670000000002,
          20619.88,
          21077.09,
          38751.82,
          16706.32,
          0,
          21776.83,
          16334.22,
          31265,
          24016.29,
          36361.75,
          30764.78,
          0,
          8945.35,
          19163.54,
          70531.47,
          31425.68,
          30967.18,
          24289.91,
          0,
          6832.13,
          25053.26,
          28261.88,
          17255.35,
          18181.55,
          23244.09,
          0,
          9329.65,
          22102.97,
          25088.89,
          23864.05,
          35276.46,
          28304.831,
          0,
          12609.14,
          32143.42,
          23795.8,
          28236.24,
          31165.170000000002,
          0,
          0,
          0,
          0,
          30537.99,
          25564.27,
          21230.79,
          0,
          0,
          6949.11,
          0,
          19584.66,
          27440.11,
          28709.77,
          35711.21,
          0,
          18673.5,
          26044.18,
          45500.67,
          33200.96,
          59838.15,
          30673.96,
          0,
          9911.38,
          25279.77,
          53558.83,
          34230.11,
          34317.11,
          26118.3,
          0,
          24076.28,
          30664.59,
          37027.26,
          24138.06,
          33208.59,
          28178.09,
          0,
          7152.9400000000005,
          0,
          21906.51,
          20180.7,
          32476.36,
          16732.85,
          0,
          25304.57,
          16786.44,
          37543.89,
          42871.01,
          45468.17,
          22540.660000000003,
          0,
          12408.74,
          20350.48,
          40185.45,
          46015.82,
          34076.06,
          20795.02,
          0,
          22339.31,
          33467.66,
          22728.51,
          21768.27,
          24186.12,
          8614.21,
          0,
          6125.04,
          16793.41,
          34643.15,
          21774.579999999998,
          43800.75,
          13128.97,
          0,
          5917.4800000000005,
          44110.95,
          40331.22,
          26253.32,
          31324.44,
          26815.329999999998,
          0,
          5657.74,
          22354.170000000002,
          25882.34,
          11590.72,
          32534.09,
          14436.33,
          0,
          17134.36,
          28426.54,
          49300.71,
          27249.5,
          30836.25,
          20010.34,
          0,
          26457.2,
          26676.89,
          21262.601,
          25559.260000000002,
          55680.46,
          18020.35,
          0,
          33205.43,
          21332.56,
          14942.22,
          27030.08,
          61023.23,
          21176.85,
          0,
          7432.02,
          19972.51,
          26616,
          27461.93,
          72071.89,
          10049.480000000001,
          0,
          5133.4800000000005,
          17197.52,
          19098.58,
          49177.020000000004,
          53177.840000000004,
          17235.02,
          0,
          14392.62,
          27972.489999999998,
          25741.21,
          36829.26,
          22404.85,
          25534.08,
          0,
          10666.31,
          0,
          31612.36,
          16105.05,
          37285.07,
          41649.33,
          0,
          16939.64,
          36585.25,
          28023.77,
          34125.65,
          26568.08,
          29258.4,
          0,
          35160.72,
          28827.27,
          54782.7,
          23346.46,
          62876.83,
          25854.11,
          0,
          15586.15,
          46193.2,
          109228.08,
          42913.11,
          56942.45,
          39399.13,
          0,
          31003.041,
          28604.541,
          35727.56,
          43327.06,
          43406.23,
          43982.85,
          0,
          11520.61,
          64081.9,
          48082.73,
          75111.56999999999,
          55177.01,
          47441.270000000004,
          0,
          11670.94,
          44148.37,
          40582.2,
          29226.68,
          36853.46,
          35172.48,
          0,
          21362.420000000002,
          46927.55,
          44583.6,
          35912.64,
          60639.38,
          62920.76,
          0,
          12119.82,
          37990.33,
          40685.4,
          37512.12,
          47390.21,
          39449.03,
          0,
          34372,
          48433.75,
          28678.3,
          45040.8,
          62683.48,
          59701.94,
          0,
          42479.65,
          69824.57,
          56504.45,
          62351.83,
          68815.98,
          54686.21,
          0,
          33341.65,
          111958.62,
          60400.74,
          64123.06,
          60127.91,
          47886.8,
          0,
          34352.65,
          48171.38,
          62080.98,
          78223.52,
          47860.86,
          50310.39,
          0,
          20239.79,
          55242.56,
          72008.09,
          59049.590000000004,
          51282.33,
          56898.47,
          0,
          24421.82,
          57630.200000000004,
          54109.39,
          74952.61,
          81294.33,
          32111.90999999999
         ],
         "yaxis": "y"
        },
        {
         "mode": "lines",
         "name": "Total Prices Trend",
         "type": "scatter",
         "x": [
          "2010-12-01T00:00:00",
          "2010-12-02T00:00:00",
          "2010-12-03T00:00:00",
          "2010-12-04T00:00:00",
          "2010-12-05T00:00:00",
          "2010-12-06T00:00:00",
          "2010-12-07T00:00:00",
          "2010-12-08T00:00:00",
          "2010-12-09T00:00:00",
          "2010-12-10T00:00:00",
          "2010-12-11T00:00:00",
          "2010-12-12T00:00:00",
          "2010-12-13T00:00:00",
          "2010-12-14T00:00:00",
          "2010-12-15T00:00:00",
          "2010-12-16T00:00:00",
          "2010-12-17T00:00:00",
          "2010-12-18T00:00:00",
          "2010-12-19T00:00:00",
          "2010-12-20T00:00:00",
          "2010-12-21T00:00:00",
          "2010-12-22T00:00:00",
          "2010-12-23T00:00:00",
          "2010-12-24T00:00:00",
          "2010-12-25T00:00:00",
          "2010-12-26T00:00:00",
          "2010-12-27T00:00:00",
          "2010-12-28T00:00:00",
          "2010-12-29T00:00:00",
          "2010-12-30T00:00:00",
          "2010-12-31T00:00:00",
          "2011-01-01T00:00:00",
          "2011-01-02T00:00:00",
          "2011-01-03T00:00:00",
          "2011-01-04T00:00:00",
          "2011-01-05T00:00:00",
          "2011-01-06T00:00:00",
          "2011-01-07T00:00:00",
          "2011-01-08T00:00:00",
          "2011-01-09T00:00:00",
          "2011-01-10T00:00:00",
          "2011-01-11T00:00:00",
          "2011-01-12T00:00:00",
          "2011-01-13T00:00:00",
          "2011-01-14T00:00:00",
          "2011-01-15T00:00:00",
          "2011-01-16T00:00:00",
          "2011-01-17T00:00:00",
          "2011-01-18T00:00:00",
          "2011-01-19T00:00:00",
          "2011-01-20T00:00:00",
          "2011-01-21T00:00:00",
          "2011-01-22T00:00:00",
          "2011-01-23T00:00:00",
          "2011-01-24T00:00:00",
          "2011-01-25T00:00:00",
          "2011-01-26T00:00:00",
          "2011-01-27T00:00:00",
          "2011-01-28T00:00:00",
          "2011-01-29T00:00:00",
          "2011-01-30T00:00:00",
          "2011-01-31T00:00:00",
          "2011-02-01T00:00:00",
          "2011-02-02T00:00:00",
          "2011-02-03T00:00:00",
          "2011-02-04T00:00:00",
          "2011-02-05T00:00:00",
          "2011-02-06T00:00:00",
          "2011-02-07T00:00:00",
          "2011-02-08T00:00:00",
          "2011-02-09T00:00:00",
          "2011-02-10T00:00:00",
          "2011-02-11T00:00:00",
          "2011-02-12T00:00:00",
          "2011-02-13T00:00:00",
          "2011-02-14T00:00:00",
          "2011-02-15T00:00:00",
          "2011-02-16T00:00:00",
          "2011-02-17T00:00:00",
          "2011-02-18T00:00:00",
          "2011-02-19T00:00:00",
          "2011-02-20T00:00:00",
          "2011-02-21T00:00:00",
          "2011-02-22T00:00:00",
          "2011-02-23T00:00:00",
          "2011-02-24T00:00:00",
          "2011-02-25T00:00:00",
          "2011-02-26T00:00:00",
          "2011-02-27T00:00:00",
          "2011-02-28T00:00:00",
          "2011-03-01T00:00:00",
          "2011-03-02T00:00:00",
          "2011-03-03T00:00:00",
          "2011-03-04T00:00:00",
          "2011-03-05T00:00:00",
          "2011-03-06T00:00:00",
          "2011-03-07T00:00:00",
          "2011-03-08T00:00:00",
          "2011-03-09T00:00:00",
          "2011-03-10T00:00:00",
          "2011-03-11T00:00:00",
          "2011-03-12T00:00:00",
          "2011-03-13T00:00:00",
          "2011-03-14T00:00:00",
          "2011-03-15T00:00:00",
          "2011-03-16T00:00:00",
          "2011-03-17T00:00:00",
          "2011-03-18T00:00:00",
          "2011-03-19T00:00:00",
          "2011-03-20T00:00:00",
          "2011-03-21T00:00:00",
          "2011-03-22T00:00:00",
          "2011-03-23T00:00:00",
          "2011-03-24T00:00:00",
          "2011-03-25T00:00:00",
          "2011-03-26T00:00:00",
          "2011-03-27T00:00:00",
          "2011-03-28T00:00:00",
          "2011-03-29T00:00:00",
          "2011-03-30T00:00:00",
          "2011-03-31T00:00:00",
          "2011-04-01T00:00:00",
          "2011-04-02T00:00:00",
          "2011-04-03T00:00:00",
          "2011-04-04T00:00:00",
          "2011-04-05T00:00:00",
          "2011-04-06T00:00:00",
          "2011-04-07T00:00:00",
          "2011-04-08T00:00:00",
          "2011-04-09T00:00:00",
          "2011-04-10T00:00:00",
          "2011-04-11T00:00:00",
          "2011-04-12T00:00:00",
          "2011-04-13T00:00:00",
          "2011-04-14T00:00:00",
          "2011-04-15T00:00:00",
          "2011-04-16T00:00:00",
          "2011-04-17T00:00:00",
          "2011-04-18T00:00:00",
          "2011-04-19T00:00:00",
          "2011-04-20T00:00:00",
          "2011-04-21T00:00:00",
          "2011-04-22T00:00:00",
          "2011-04-23T00:00:00",
          "2011-04-24T00:00:00",
          "2011-04-25T00:00:00",
          "2011-04-26T00:00:00",
          "2011-04-27T00:00:00",
          "2011-04-28T00:00:00",
          "2011-04-29T00:00:00",
          "2011-04-30T00:00:00",
          "2011-05-01T00:00:00",
          "2011-05-02T00:00:00",
          "2011-05-03T00:00:00",
          "2011-05-04T00:00:00",
          "2011-05-05T00:00:00",
          "2011-05-06T00:00:00",
          "2011-05-07T00:00:00",
          "2011-05-08T00:00:00",
          "2011-05-09T00:00:00",
          "2011-05-10T00:00:00",
          "2011-05-11T00:00:00",
          "2011-05-12T00:00:00",
          "2011-05-13T00:00:00",
          "2011-05-14T00:00:00",
          "2011-05-15T00:00:00",
          "2011-05-16T00:00:00",
          "2011-05-17T00:00:00",
          "2011-05-18T00:00:00",
          "2011-05-19T00:00:00",
          "2011-05-20T00:00:00",
          "2011-05-21T00:00:00",
          "2011-05-22T00:00:00",
          "2011-05-23T00:00:00",
          "2011-05-24T00:00:00",
          "2011-05-25T00:00:00",
          "2011-05-26T00:00:00",
          "2011-05-27T00:00:00",
          "2011-05-28T00:00:00",
          "2011-05-29T00:00:00",
          "2011-05-30T00:00:00",
          "2011-05-31T00:00:00",
          "2011-06-01T00:00:00",
          "2011-06-02T00:00:00",
          "2011-06-03T00:00:00",
          "2011-06-04T00:00:00",
          "2011-06-05T00:00:00",
          "2011-06-06T00:00:00",
          "2011-06-07T00:00:00",
          "2011-06-08T00:00:00",
          "2011-06-09T00:00:00",
          "2011-06-10T00:00:00",
          "2011-06-11T00:00:00",
          "2011-06-12T00:00:00",
          "2011-06-13T00:00:00",
          "2011-06-14T00:00:00",
          "2011-06-15T00:00:00",
          "2011-06-16T00:00:00",
          "2011-06-17T00:00:00",
          "2011-06-18T00:00:00",
          "2011-06-19T00:00:00",
          "2011-06-20T00:00:00",
          "2011-06-21T00:00:00",
          "2011-06-22T00:00:00",
          "2011-06-23T00:00:00",
          "2011-06-24T00:00:00",
          "2011-06-25T00:00:00",
          "2011-06-26T00:00:00",
          "2011-06-27T00:00:00",
          "2011-06-28T00:00:00",
          "2011-06-29T00:00:00",
          "2011-06-30T00:00:00",
          "2011-07-01T00:00:00",
          "2011-07-02T00:00:00",
          "2011-07-03T00:00:00",
          "2011-07-04T00:00:00",
          "2011-07-05T00:00:00",
          "2011-07-06T00:00:00",
          "2011-07-07T00:00:00",
          "2011-07-08T00:00:00",
          "2011-07-09T00:00:00",
          "2011-07-10T00:00:00",
          "2011-07-11T00:00:00",
          "2011-07-12T00:00:00",
          "2011-07-13T00:00:00",
          "2011-07-14T00:00:00",
          "2011-07-15T00:00:00",
          "2011-07-16T00:00:00",
          "2011-07-17T00:00:00",
          "2011-07-18T00:00:00",
          "2011-07-19T00:00:00",
          "2011-07-20T00:00:00",
          "2011-07-21T00:00:00",
          "2011-07-22T00:00:00",
          "2011-07-23T00:00:00",
          "2011-07-24T00:00:00",
          "2011-07-25T00:00:00",
          "2011-07-26T00:00:00",
          "2011-07-27T00:00:00",
          "2011-07-28T00:00:00",
          "2011-07-29T00:00:00",
          "2011-07-30T00:00:00",
          "2011-07-31T00:00:00",
          "2011-08-01T00:00:00",
          "2011-08-02T00:00:00",
          "2011-08-03T00:00:00",
          "2011-08-04T00:00:00",
          "2011-08-05T00:00:00",
          "2011-08-06T00:00:00",
          "2011-08-07T00:00:00",
          "2011-08-08T00:00:00",
          "2011-08-09T00:00:00",
          "2011-08-10T00:00:00",
          "2011-08-11T00:00:00",
          "2011-08-12T00:00:00",
          "2011-08-13T00:00:00",
          "2011-08-14T00:00:00",
          "2011-08-15T00:00:00",
          "2011-08-16T00:00:00",
          "2011-08-17T00:00:00",
          "2011-08-18T00:00:00",
          "2011-08-19T00:00:00",
          "2011-08-20T00:00:00",
          "2011-08-21T00:00:00",
          "2011-08-22T00:00:00",
          "2011-08-23T00:00:00",
          "2011-08-24T00:00:00",
          "2011-08-25T00:00:00",
          "2011-08-26T00:00:00",
          "2011-08-27T00:00:00",
          "2011-08-28T00:00:00",
          "2011-08-29T00:00:00",
          "2011-08-30T00:00:00",
          "2011-08-31T00:00:00",
          "2011-09-01T00:00:00",
          "2011-09-02T00:00:00",
          "2011-09-03T00:00:00",
          "2011-09-04T00:00:00",
          "2011-09-05T00:00:00",
          "2011-09-06T00:00:00",
          "2011-09-07T00:00:00",
          "2011-09-08T00:00:00",
          "2011-09-09T00:00:00",
          "2011-09-10T00:00:00",
          "2011-09-11T00:00:00",
          "2011-09-12T00:00:00",
          "2011-09-13T00:00:00",
          "2011-09-14T00:00:00",
          "2011-09-15T00:00:00",
          "2011-09-16T00:00:00",
          "2011-09-17T00:00:00",
          "2011-09-18T00:00:00",
          "2011-09-19T00:00:00",
          "2011-09-20T00:00:00",
          "2011-09-21T00:00:00",
          "2011-09-22T00:00:00",
          "2011-09-23T00:00:00",
          "2011-09-24T00:00:00",
          "2011-09-25T00:00:00",
          "2011-09-26T00:00:00",
          "2011-09-27T00:00:00",
          "2011-09-28T00:00:00",
          "2011-09-29T00:00:00",
          "2011-09-30T00:00:00",
          "2011-10-01T00:00:00",
          "2011-10-02T00:00:00",
          "2011-10-03T00:00:00",
          "2011-10-04T00:00:00",
          "2011-10-05T00:00:00",
          "2011-10-06T00:00:00",
          "2011-10-07T00:00:00",
          "2011-10-08T00:00:00",
          "2011-10-09T00:00:00",
          "2011-10-10T00:00:00",
          "2011-10-11T00:00:00",
          "2011-10-12T00:00:00",
          "2011-10-13T00:00:00",
          "2011-10-14T00:00:00",
          "2011-10-15T00:00:00",
          "2011-10-16T00:00:00",
          "2011-10-17T00:00:00",
          "2011-10-18T00:00:00",
          "2011-10-19T00:00:00",
          "2011-10-20T00:00:00",
          "2011-10-21T00:00:00",
          "2011-10-22T00:00:00",
          "2011-10-23T00:00:00",
          "2011-10-24T00:00:00",
          "2011-10-25T00:00:00",
          "2011-10-26T00:00:00",
          "2011-10-27T00:00:00",
          "2011-10-28T00:00:00",
          "2011-10-29T00:00:00",
          "2011-10-30T00:00:00",
          "2011-10-31T00:00:00",
          "2011-11-01T00:00:00",
          "2011-11-02T00:00:00",
          "2011-11-03T00:00:00",
          "2011-11-04T00:00:00",
          "2011-11-05T00:00:00",
          "2011-11-06T00:00:00",
          "2011-11-07T00:00:00",
          "2011-11-08T00:00:00",
          "2011-11-09T00:00:00",
          "2011-11-10T00:00:00",
          "2011-11-11T00:00:00",
          "2011-11-12T00:00:00",
          "2011-11-13T00:00:00",
          "2011-11-14T00:00:00",
          "2011-11-15T00:00:00",
          "2011-11-16T00:00:00",
          "2011-11-17T00:00:00",
          "2011-11-18T00:00:00",
          "2011-11-19T00:00:00",
          "2011-11-20T00:00:00",
          "2011-11-21T00:00:00",
          "2011-11-22T00:00:00",
          "2011-11-23T00:00:00",
          "2011-11-24T00:00:00",
          "2011-11-25T00:00:00",
          "2011-11-26T00:00:00",
          "2011-11-27T00:00:00",
          "2011-11-28T00:00:00",
          "2011-11-29T00:00:00",
          "2011-11-30T00:00:00",
          "2011-12-01T00:00:00",
          "2011-12-02T00:00:00",
          "2011-12-03T00:00:00",
          "2011-12-04T00:00:00",
          "2011-12-05T00:00:00",
          "2011-12-06T00:00:00",
          "2011-12-07T00:00:00",
          "2011-12-08T00:00:00",
          "2011-12-09T00:00:00"
         ],
         "y": [
          13807.067665754023,
          13872.474092142289,
          13937.880518530555,
          14003.286944918822,
          14068.69337130709,
          14134.099797695357,
          14199.506224083623,
          14264.91265047189,
          14330.319076860156,
          14395.725503248423,
          14461.13192963669,
          14526.538356024957,
          14591.944782413224,
          14657.35120880149,
          14722.757635189757,
          14788.164061578023,
          14853.57048796629,
          14918.976914354556,
          14984.383340742825,
          15049.789767131091,
          15115.196193519358,
          15180.602619907624,
          15246.00904629589,
          15311.415472684157,
          15376.821899072424,
          15442.228325460692,
          15507.634751848958,
          15573.041178237225,
          15638.447604625491,
          15703.854031013758,
          15769.260457402024,
          15834.66688379029,
          15900.073310178559,
          15965.479736566826,
          16030.886162955092,
          16096.292589343358,
          16161.699015731625,
          16227.105442119891,
          16292.511868508158,
          16357.918294896426,
          16423.32472128469,
          16488.73114767296,
          16554.137574061227,
          16619.544000449492,
          16684.95042683776,
          16750.356853226025,
          16815.763279614293,
          16881.169706002558,
          16946.576132390826,
          17011.98255877909,
          17077.38898516736,
          17142.795411555628,
          17208.201837943892,
          17273.60826433216,
          17339.014690720425,
          17404.421117108694,
          17469.827543496962,
          17535.233969885227,
          17600.640396273495,
          17666.04682266176,
          17731.453249050028,
          17796.859675438292,
          17862.26610182656,
          17927.672528214825,
          17993.078954603094,
          18058.485380991362,
          18123.891807379627,
          18189.298233767895,
          18254.70466015616,
          18320.111086544428,
          18385.517512932696,
          18450.92393932096,
          18516.330365709226,
          18581.736792097494,
          18647.143218485762,
          18712.549644874027,
          18777.956071262295,
          18843.36249765056,
          18908.768924038828,
          18974.175350427096,
          19039.58177681536,
          19104.98820320363,
          19170.394629591894,
          19235.801055980162,
          19301.20748236843,
          19366.613908756695,
          19432.02033514496,
          19497.42676153323,
          19562.833187921497,
          19628.23961430976,
          19693.64604069803,
          19759.052467086294,
          19824.458893474563,
          19889.86531986283,
          19955.271746251095,
          20020.678172639364,
          20086.08459902763,
          20151.491025415897,
          20216.897451804165,
          20282.30387819243,
          20347.710304580694,
          20413.116730968963,
          20478.52315735723,
          20543.929583745496,
          20609.336010133764,
          20674.74243652203,
          20740.148862910297,
          20805.555289298565,
          20870.96171568683,
          20936.368142075098,
          21001.774568463363,
          21067.18099485163,
          21132.5874212399,
          21197.993847628164,
          21263.40027401643,
          21328.806700404697,
          21394.213126792965,
          21459.61955318123,
          21525.0259795695,
          21590.432405957763,
          21655.83883234603,
          21721.2452587343,
          21786.651685122564,
          21852.058111510833,
          21917.464537899097,
          21982.870964287365,
          22048.277390675634,
          22113.6838170639,
          22179.090243452163,
          22244.49666984043,
          22309.9030962287,
          22375.309522616964,
          22440.715949005233,
          22506.122375393497,
          22571.528801781766,
          22636.935228170034,
          22702.3416545583,
          22767.748080946563,
          22833.15450733483,
          22898.5609337231,
          22963.967360111368,
          23029.373786499633,
          23094.780212887898,
          23160.186639276166,
          23225.593065664434,
          23290.9994920527,
          23356.405918440967,
          23421.81234482923,
          23487.2187712175,
          23552.62519760577,
          23618.031623994033,
          23683.438050382298,
          23748.844476770566,
          23814.250903158834,
          23879.657329547103,
          23945.063755935367,
          24010.470182323632,
          24075.8766087119,
          24141.28303510017,
          24206.689461488433,
          24272.095887876698,
          24337.502314264966,
          24402.908740653234,
          24468.315167041503,
          24533.721593429767,
          24599.128019818032,
          24664.5344462063,
          24729.94087259457,
          24795.347298982837,
          24860.7537253711,
          24926.160151759366,
          24991.566578147635,
          25056.973004535903,
          25122.379430924168,
          25187.785857312432,
          25253.1922837007,
          25318.59871008897,
          25384.005136477237,
          25449.4115628655,
          25514.817989253766,
          25580.224415642035,
          25645.630842030303,
          25711.03726841857,
          25776.443694806836,
          25841.8501211951,
          25907.25654758337,
          25972.662973971637,
          26038.069400359902,
          26103.475826748167,
          26168.882253136435,
          26234.288679524703,
          26299.69510591297,
          26365.101532301236,
          26430.5079586895,
          26495.91438507777,
          26561.320811466037,
          26626.727237854306,
          26692.13366424257,
          26757.540090630835,
          26822.946517019103,
          26888.35294340737,
          26953.759369795636,
          27019.1657961839,
          27084.57222257217,
          27149.978648960438,
          27215.385075348706,
          27280.79150173697,
          27346.197928125235,
          27411.604354513503,
          27477.01078090177,
          27542.41720729004,
          27607.823633678305,
          27673.23006006657,
          27738.636486454838,
          27804.042912843106,
          27869.44933923137,
          27934.855765619635,
          28000.262192007904,
          28065.668618396172,
          28131.07504478444,
          28196.481471172705,
          28261.88789756097,
          28327.294323949238,
          28392.700750337506,
          28458.107176725774,
          28523.51360311404,
          28588.920029502304,
          28654.326455890572,
          28719.73288227884,
          28785.139308667105,
          28850.54573505537,
          28915.952161443638,
          28981.358587831906,
          29046.765014220175,
          29112.17144060844,
          29177.577866996704,
          29242.984293384972,
          29308.39071977324,
          29373.797146161505,
          29439.203572549774,
          29504.60999893804,
          29570.016425326306,
          29635.422851714575,
          29700.82927810284,
          29766.235704491104,
          29831.642130879372,
          29897.04855726764,
          29962.45498365591,
          30027.861410044174,
          30093.26783643244,
          30158.674262820707,
          30224.080689208975,
          30289.487115597243,
          30354.893541985504,
          30420.299968373773,
          30485.70639476204,
          30551.11282115031,
          30616.519247538577,
          30681.92567392684,
          30747.332100315107,
          30812.738526703375,
          30878.144953091643,
          30943.551379479904,
          31008.957805868173,
          31074.36423225644,
          31139.77065864471,
          31205.177085032978,
          31270.58351142124,
          31335.989937809507,
          31401.396364197775,
          31466.802790586044,
          31532.209216974312,
          31597.615643362573,
          31663.02206975084,
          31728.42849613911,
          31793.834922527378,
          31859.24134891564,
          31924.647775303907,
          31990.054201692175,
          32055.460628080444,
          32120.867054468712,
          32186.273480856973,
          32251.67990724524,
          32317.08633363351,
          32382.492760021778,
          32447.899186410046,
          32513.305612798307,
          32578.712039186576,
          32644.118465574844,
          32709.524891963112,
          32774.93131835137,
          32840.33774473964,
          32905.74417112791,
          32971.15059751618,
          33036.55702390445,
          33101.96345029271,
          33167.369876680976,
          33232.776303069244,
          33298.18272945751,
          33363.58915584578,
          33428.99558223404,
          33494.40200862231,
          33559.80843501058,
          33625.21486139885,
          33690.62128778711,
          33756.027714175376,
          33821.434140563644,
          33886.84056695191,
          33952.24699334018,
          34017.65341972844,
          34083.05984611671,
          34148.46627250498,
          34213.87269889325,
          34279.279125281515,
          34344.685551669776,
          34410.091978058044,
          34475.49840444631,
          34540.90483083458,
          34606.31125722284,
          34671.71768361111,
          34737.12410999938,
          34802.53053638765,
          34867.936962775915,
          34933.343389164176,
          34998.749815552444,
          35064.15624194071,
          35129.56266832898,
          35194.96909471724,
          35260.37552110551,
          35325.78194749378,
          35391.18837388205,
          35456.594800270315,
          35522.001226658576,
          35587.407653046845,
          35652.81407943511,
          35718.22050582338,
          35783.62693221165,
          35849.03335859991,
          35914.43978498818,
          35979.84621137645,
          36045.252637764715,
          36110.65906415298,
          36176.065490541245,
          36241.47191692951,
          36306.87834331778,
          36372.28476970605,
          36437.69119609431,
          36503.09762248258,
          36568.50404887085,
          36633.910475259116,
          36699.316901647384,
          36764.723328035645,
          36830.12975442391,
          36895.53618081218,
          36960.94260720045,
          37026.34903358871,
          37091.75545997698,
          37157.16188636525,
          37222.568312753516,
          37287.974739141784,
          37353.381165530045,
          37418.78759191831,
          37484.19401830658,
          37549.60044469485,
          37615.00687108312,
          37680.41329747138,
          37745.81972385965,
          37811.226150247916,
          37876.632576636184,
          37942.039003024445,
          38007.44542941271,
          38072.85185580098,
          38138.25828218925,
          38203.66470857752
         ]
        }
       ],
       "layout": {
        "legend": {
         "title": {
          "text": "variable"
         },
         "tracegroupgap": 0
        },
        "template": {
         "data": {
          "bar": [
           {
            "error_x": {
             "color": "#2a3f5f"
            },
            "error_y": {
             "color": "#2a3f5f"
            },
            "marker": {
             "line": {
              "color": "#E5ECF6",
              "width": 0.5
             },
             "pattern": {
              "fillmode": "overlay",
              "size": 10,
              "solidity": 0.2
             }
            },
            "type": "bar"
           }
          ],
          "barpolar": [
           {
            "marker": {
             "line": {
              "color": "#E5ECF6",
              "width": 0.5
             },
             "pattern": {
              "fillmode": "overlay",
              "size": 10,
              "solidity": 0.2
             }
            },
            "type": "barpolar"
           }
          ],
          "carpet": [
           {
            "aaxis": {
             "endlinecolor": "#2a3f5f",
             "gridcolor": "white",
             "linecolor": "white",
             "minorgridcolor": "white",
             "startlinecolor": "#2a3f5f"
            },
            "baxis": {
             "endlinecolor": "#2a3f5f",
             "gridcolor": "white",
             "linecolor": "white",
             "minorgridcolor": "white",
             "startlinecolor": "#2a3f5f"
            },
            "type": "carpet"
           }
          ],
          "choropleth": [
           {
            "colorbar": {
             "outlinewidth": 0,
             "ticks": ""
            },
            "type": "choropleth"
           }
          ],
          "contour": [
           {
            "colorbar": {
             "outlinewidth": 0,
             "ticks": ""
            },
            "colorscale": [
             [
              0,
              "#0d0887"
             ],
             [
              0.1111111111111111,
              "#46039f"
             ],
             [
              0.2222222222222222,
              "#7201a8"
             ],
             [
              0.3333333333333333,
              "#9c179e"
             ],
             [
              0.4444444444444444,
              "#bd3786"
             ],
             [
              0.5555555555555556,
              "#d8576b"
             ],
             [
              0.6666666666666666,
              "#ed7953"
             ],
             [
              0.7777777777777778,
              "#fb9f3a"
             ],
             [
              0.8888888888888888,
              "#fdca26"
             ],
             [
              1,
              "#f0f921"
             ]
            ],
            "type": "contour"
           }
          ],
          "contourcarpet": [
           {
            "colorbar": {
             "outlinewidth": 0,
             "ticks": ""
            },
            "type": "contourcarpet"
           }
          ],
          "heatmap": [
           {
            "colorbar": {
             "outlinewidth": 0,
             "ticks": ""
            },
            "colorscale": [
             [
              0,
              "#0d0887"
             ],
             [
              0.1111111111111111,
              "#46039f"
             ],
             [
              0.2222222222222222,
              "#7201a8"
             ],
             [
              0.3333333333333333,
              "#9c179e"
             ],
             [
              0.4444444444444444,
              "#bd3786"
             ],
             [
              0.5555555555555556,
              "#d8576b"
             ],
             [
              0.6666666666666666,
              "#ed7953"
             ],
             [
              0.7777777777777778,
              "#fb9f3a"
             ],
             [
              0.8888888888888888,
              "#fdca26"
             ],
             [
              1,
              "#f0f921"
             ]
            ],
            "type": "heatmap"
           }
          ],
          "heatmapgl": [
           {
            "colorbar": {
             "outlinewidth": 0,
             "ticks": ""
            },
            "colorscale": [
             [
              0,
              "#0d0887"
             ],
             [
              0.1111111111111111,
              "#46039f"
             ],
             [
              0.2222222222222222,
              "#7201a8"
             ],
             [
              0.3333333333333333,
              "#9c179e"
             ],
             [
              0.4444444444444444,
              "#bd3786"
             ],
             [
              0.5555555555555556,
              "#d8576b"
             ],
             [
              0.6666666666666666,
              "#ed7953"
             ],
             [
              0.7777777777777778,
              "#fb9f3a"
             ],
             [
              0.8888888888888888,
              "#fdca26"
             ],
             [
              1,
              "#f0f921"
             ]
            ],
            "type": "heatmapgl"
           }
          ],
          "histogram": [
           {
            "marker": {
             "pattern": {
              "fillmode": "overlay",
              "size": 10,
              "solidity": 0.2
             }
            },
            "type": "histogram"
           }
          ],
          "histogram2d": [
           {
            "colorbar": {
             "outlinewidth": 0,
             "ticks": ""
            },
            "colorscale": [
             [
              0,
              "#0d0887"
             ],
             [
              0.1111111111111111,
              "#46039f"
             ],
             [
              0.2222222222222222,
              "#7201a8"
             ],
             [
              0.3333333333333333,
              "#9c179e"
             ],
             [
              0.4444444444444444,
              "#bd3786"
             ],
             [
              0.5555555555555556,
              "#d8576b"
             ],
             [
              0.6666666666666666,
              "#ed7953"
             ],
             [
              0.7777777777777778,
              "#fb9f3a"
             ],
             [
              0.8888888888888888,
              "#fdca26"
             ],
             [
              1,
              "#f0f921"
             ]
            ],
            "type": "histogram2d"
           }
          ],
          "histogram2dcontour": [
           {
            "colorbar": {
             "outlinewidth": 0,
             "ticks": ""
            },
            "colorscale": [
             [
              0,
              "#0d0887"
             ],
             [
              0.1111111111111111,
              "#46039f"
             ],
             [
              0.2222222222222222,
              "#7201a8"
             ],
             [
              0.3333333333333333,
              "#9c179e"
             ],
             [
              0.4444444444444444,
              "#bd3786"
             ],
             [
              0.5555555555555556,
              "#d8576b"
             ],
             [
              0.6666666666666666,
              "#ed7953"
             ],
             [
              0.7777777777777778,
              "#fb9f3a"
             ],
             [
              0.8888888888888888,
              "#fdca26"
             ],
             [
              1,
              "#f0f921"
             ]
            ],
            "type": "histogram2dcontour"
           }
          ],
          "mesh3d": [
           {
            "colorbar": {
             "outlinewidth": 0,
             "ticks": ""
            },
            "type": "mesh3d"
           }
          ],
          "parcoords": [
           {
            "line": {
             "colorbar": {
              "outlinewidth": 0,
              "ticks": ""
             }
            },
            "type": "parcoords"
           }
          ],
          "pie": [
           {
            "automargin": true,
            "type": "pie"
           }
          ],
          "scatter": [
           {
            "fillpattern": {
             "fillmode": "overlay",
             "size": 10,
             "solidity": 0.2
            },
            "type": "scatter"
           }
          ],
          "scatter3d": [
           {
            "line": {
             "colorbar": {
              "outlinewidth": 0,
              "ticks": ""
             }
            },
            "marker": {
             "colorbar": {
              "outlinewidth": 0,
              "ticks": ""
             }
            },
            "type": "scatter3d"
           }
          ],
          "scattercarpet": [
           {
            "marker": {
             "colorbar": {
              "outlinewidth": 0,
              "ticks": ""
             }
            },
            "type": "scattercarpet"
           }
          ],
          "scattergeo": [
           {
            "marker": {
             "colorbar": {
              "outlinewidth": 0,
              "ticks": ""
             }
            },
            "type": "scattergeo"
           }
          ],
          "scattergl": [
           {
            "marker": {
             "colorbar": {
              "outlinewidth": 0,
              "ticks": ""
             }
            },
            "type": "scattergl"
           }
          ],
          "scattermapbox": [
           {
            "marker": {
             "colorbar": {
              "outlinewidth": 0,
              "ticks": ""
             }
            },
            "type": "scattermapbox"
           }
          ],
          "scatterpolar": [
           {
            "marker": {
             "colorbar": {
              "outlinewidth": 0,
              "ticks": ""
             }
            },
            "type": "scatterpolar"
           }
          ],
          "scatterpolargl": [
           {
            "marker": {
             "colorbar": {
              "outlinewidth": 0,
              "ticks": ""
             }
            },
            "type": "scatterpolargl"
           }
          ],
          "scatterternary": [
           {
            "marker": {
             "colorbar": {
              "outlinewidth": 0,
              "ticks": ""
             }
            },
            "type": "scatterternary"
           }
          ],
          "surface": [
           {
            "colorbar": {
             "outlinewidth": 0,
             "ticks": ""
            },
            "colorscale": [
             [
              0,
              "#0d0887"
             ],
             [
              0.1111111111111111,
              "#46039f"
             ],
             [
              0.2222222222222222,
              "#7201a8"
             ],
             [
              0.3333333333333333,
              "#9c179e"
             ],
             [
              0.4444444444444444,
              "#bd3786"
             ],
             [
              0.5555555555555556,
              "#d8576b"
             ],
             [
              0.6666666666666666,
              "#ed7953"
             ],
             [
              0.7777777777777778,
              "#fb9f3a"
             ],
             [
              0.8888888888888888,
              "#fdca26"
             ],
             [
              1,
              "#f0f921"
             ]
            ],
            "type": "surface"
           }
          ],
          "table": [
           {
            "cells": {
             "fill": {
              "color": "#EBF0F8"
             },
             "line": {
              "color": "white"
             }
            },
            "header": {
             "fill": {
              "color": "#C8D4E3"
             },
             "line": {
              "color": "white"
             }
            },
            "type": "table"
           }
          ]
         },
         "layout": {
          "annotationdefaults": {
           "arrowcolor": "#2a3f5f",
           "arrowhead": 0,
           "arrowwidth": 1
          },
          "autotypenumbers": "strict",
          "coloraxis": {
           "colorbar": {
            "outlinewidth": 0,
            "ticks": ""
           }
          },
          "colorscale": {
           "diverging": [
            [
             0,
             "#8e0152"
            ],
            [
             0.1,
             "#c51b7d"
            ],
            [
             0.2,
             "#de77ae"
            ],
            [
             0.3,
             "#f1b6da"
            ],
            [
             0.4,
             "#fde0ef"
            ],
            [
             0.5,
             "#f7f7f7"
            ],
            [
             0.6,
             "#e6f5d0"
            ],
            [
             0.7,
             "#b8e186"
            ],
            [
             0.8,
             "#7fbc41"
            ],
            [
             0.9,
             "#4d9221"
            ],
            [
             1,
             "#276419"
            ]
           ],
           "sequential": [
            [
             0,
             "#0d0887"
            ],
            [
             0.1111111111111111,
             "#46039f"
            ],
            [
             0.2222222222222222,
             "#7201a8"
            ],
            [
             0.3333333333333333,
             "#9c179e"
            ],
            [
             0.4444444444444444,
             "#bd3786"
            ],
            [
             0.5555555555555556,
             "#d8576b"
            ],
            [
             0.6666666666666666,
             "#ed7953"
            ],
            [
             0.7777777777777778,
             "#fb9f3a"
            ],
            [
             0.8888888888888888,
             "#fdca26"
            ],
            [
             1,
             "#f0f921"
            ]
           ],
           "sequentialminus": [
            [
             0,
             "#0d0887"
            ],
            [
             0.1111111111111111,
             "#46039f"
            ],
            [
             0.2222222222222222,
             "#7201a8"
            ],
            [
             0.3333333333333333,
             "#9c179e"
            ],
            [
             0.4444444444444444,
             "#bd3786"
            ],
            [
             0.5555555555555556,
             "#d8576b"
            ],
            [
             0.6666666666666666,
             "#ed7953"
            ],
            [
             0.7777777777777778,
             "#fb9f3a"
            ],
            [
             0.8888888888888888,
             "#fdca26"
            ],
            [
             1,
             "#f0f921"
            ]
           ]
          },
          "colorway": [
           "#636efa",
           "#EF553B",
           "#00cc96",
           "#ab63fa",
           "#FFA15A",
           "#19d3f3",
           "#FF6692",
           "#B6E880",
           "#FF97FF",
           "#FECB52"
          ],
          "font": {
           "color": "#2a3f5f"
          },
          "geo": {
           "bgcolor": "white",
           "lakecolor": "white",
           "landcolor": "#E5ECF6",
           "showlakes": true,
           "showland": true,
           "subunitcolor": "white"
          },
          "hoverlabel": {
           "align": "left"
          },
          "hovermode": "closest",
          "mapbox": {
           "style": "light"
          },
          "paper_bgcolor": "white",
          "plot_bgcolor": "#E5ECF6",
          "polar": {
           "angularaxis": {
            "gridcolor": "white",
            "linecolor": "white",
            "ticks": ""
           },
           "bgcolor": "#E5ECF6",
           "radialaxis": {
            "gridcolor": "white",
            "linecolor": "white",
            "ticks": ""
           }
          },
          "scene": {
           "xaxis": {
            "backgroundcolor": "#E5ECF6",
            "gridcolor": "white",
            "gridwidth": 2,
            "linecolor": "white",
            "showbackground": true,
            "ticks": "",
            "zerolinecolor": "white"
           },
           "yaxis": {
            "backgroundcolor": "#E5ECF6",
            "gridcolor": "white",
            "gridwidth": 2,
            "linecolor": "white",
            "showbackground": true,
            "ticks": "",
            "zerolinecolor": "white"
           },
           "zaxis": {
            "backgroundcolor": "#E5ECF6",
            "gridcolor": "white",
            "gridwidth": 2,
            "linecolor": "white",
            "showbackground": true,
            "ticks": "",
            "zerolinecolor": "white"
           }
          },
          "shapedefaults": {
           "line": {
            "color": "#2a3f5f"
           }
          },
          "ternary": {
           "aaxis": {
            "gridcolor": "white",
            "linecolor": "white",
            "ticks": ""
           },
           "baxis": {
            "gridcolor": "white",
            "linecolor": "white",
            "ticks": ""
           },
           "bgcolor": "#E5ECF6",
           "caxis": {
            "gridcolor": "white",
            "linecolor": "white",
            "ticks": ""
           }
          },
          "title": {
           "x": 0.05
          },
          "xaxis": {
           "automargin": true,
           "gridcolor": "white",
           "linecolor": "white",
           "ticks": "",
           "title": {
            "standoff": 15
           },
           "zerolinecolor": "white",
           "zerolinewidth": 2
          },
          "yaxis": {
           "automargin": true,
           "gridcolor": "white",
           "linecolor": "white",
           "ticks": "",
           "title": {
            "standoff": 15
           },
           "zerolinecolor": "white",
           "zerolinewidth": 2
          }
         }
        },
        "title": {
         "text": "Sum by Days - Total Prices"
        },
        "xaxis": {
         "anchor": "y",
         "domain": [
          0,
          1
         ],
         "title": {
          "text": "Invoice Date"
         }
        },
        "yaxis": {
         "anchor": "x",
         "domain": [
          0,
          1
         ],
         "title": {
          "text": "Value"
         }
        }
       }
      }
     },
     "metadata": {},
     "output_type": "display_data"
    }
   ],
   "source": [
    "import plotly.express as px\n",
    "\n",
    "# Plot data by day and sum the 'Quantity' and 'TotalPrices' column\n",
    "sumbyday_cl_df = cl_df.groupby(pd.Grouper(key='InvoiceDate', freq='D')).sum().reset_index()\n",
    "\n",
    "# Create the plot\n",
    "fig = px.line(sumbyday_cl_df, x='InvoiceDate', y=['TotalPrices'], title='Sum by Days - Total Prices')\n",
    "\n",
    "# Add x-axis and y-axis labels\n",
    "fig.update_layout(xaxis_title='Invoice Date', yaxis_title='Value')\n",
    "\n",
    "trend_prices = np.polyfit(sumbyday_cl_df.index, sumbyday_cl_df['TotalPrices'], 1)\n",
    "\n",
    "fig.add_scatter(x=sumbyday_cl_df['InvoiceDate'], y=np.polyval(trend_prices, sumbyday_cl_df.index), mode='lines', name='Total Prices Trend')\n",
    "\n",
    "# Display the plot\n",
    "fig.show()"
   ]
  },
  {
   "cell_type": "markdown",
   "metadata": {},
   "source": [
    "#### **Build Dataset For Modeling**"
   ]
  },
  {
   "attachments": {},
   "cell_type": "markdown",
   "metadata": {},
   "source": [
    "Membuat dataframe baru untuk kebutukan pemodelan."
   ]
  },
  {
   "cell_type": "code",
   "execution_count": 20,
   "metadata": {},
   "outputs": [
    {
     "data": {
      "text/html": [
       "<div>\n",
       "<style scoped>\n",
       "    .dataframe tbody tr th:only-of-type {\n",
       "        vertical-align: middle;\n",
       "    }\n",
       "\n",
       "    .dataframe tbody tr th {\n",
       "        vertical-align: top;\n",
       "    }\n",
       "\n",
       "    .dataframe thead th {\n",
       "        text-align: right;\n",
       "    }\n",
       "</style>\n",
       "<table border=\"1\" class=\"dataframe\">\n",
       "  <thead>\n",
       "    <tr style=\"text-align: right;\">\n",
       "      <th></th>\n",
       "      <th>InvoiceDate</th>\n",
       "      <th>TotalPrices</th>\n",
       "    </tr>\n",
       "  </thead>\n",
       "  <tbody>\n",
       "    <tr>\n",
       "      <th>0</th>\n",
       "      <td>2010-12-01 08:26:00</td>\n",
       "      <td>15.30</td>\n",
       "    </tr>\n",
       "    <tr>\n",
       "      <th>1</th>\n",
       "      <td>2010-12-01 08:26:00</td>\n",
       "      <td>20.34</td>\n",
       "    </tr>\n",
       "    <tr>\n",
       "      <th>2</th>\n",
       "      <td>2010-12-01 08:26:00</td>\n",
       "      <td>22.00</td>\n",
       "    </tr>\n",
       "    <tr>\n",
       "      <th>3</th>\n",
       "      <td>2010-12-01 08:26:00</td>\n",
       "      <td>20.34</td>\n",
       "    </tr>\n",
       "    <tr>\n",
       "      <th>4</th>\n",
       "      <td>2010-12-01 08:26:00</td>\n",
       "      <td>20.34</td>\n",
       "    </tr>\n",
       "    <tr>\n",
       "      <th>...</th>\n",
       "      <td>...</td>\n",
       "      <td>...</td>\n",
       "    </tr>\n",
       "    <tr>\n",
       "      <th>536636</th>\n",
       "      <td>2011-12-09 12:50:00</td>\n",
       "      <td>10.20</td>\n",
       "    </tr>\n",
       "    <tr>\n",
       "      <th>536637</th>\n",
       "      <td>2011-12-09 12:50:00</td>\n",
       "      <td>12.60</td>\n",
       "    </tr>\n",
       "    <tr>\n",
       "      <th>536638</th>\n",
       "      <td>2011-12-09 12:50:00</td>\n",
       "      <td>16.60</td>\n",
       "    </tr>\n",
       "    <tr>\n",
       "      <th>536639</th>\n",
       "      <td>2011-12-09 12:50:00</td>\n",
       "      <td>16.60</td>\n",
       "    </tr>\n",
       "    <tr>\n",
       "      <th>536640</th>\n",
       "      <td>2011-12-09 12:50:00</td>\n",
       "      <td>14.85</td>\n",
       "    </tr>\n",
       "  </tbody>\n",
       "</table>\n",
       "<p>536641 rows × 2 columns</p>\n",
       "</div>"
      ],
      "text/plain": [
       "               InvoiceDate  TotalPrices\n",
       "0      2010-12-01 08:26:00        15.30\n",
       "1      2010-12-01 08:26:00        20.34\n",
       "2      2010-12-01 08:26:00        22.00\n",
       "3      2010-12-01 08:26:00        20.34\n",
       "4      2010-12-01 08:26:00        20.34\n",
       "...                    ...          ...\n",
       "536636 2011-12-09 12:50:00        10.20\n",
       "536637 2011-12-09 12:50:00        12.60\n",
       "536638 2011-12-09 12:50:00        16.60\n",
       "536639 2011-12-09 12:50:00        16.60\n",
       "536640 2011-12-09 12:50:00        14.85\n",
       "\n",
       "[536641 rows x 2 columns]"
      ]
     },
     "execution_count": 20,
     "metadata": {},
     "output_type": "execute_result"
    }
   ],
   "source": [
    "dataset = cl_df[['InvoiceDate', 'TotalPrices']]\n",
    "dataset"
   ]
  },
  {
   "attachments": {},
   "cell_type": "markdown",
   "metadata": {},
   "source": [
    "Melihat informasi data."
   ]
  },
  {
   "cell_type": "code",
   "execution_count": 21,
   "metadata": {},
   "outputs": [
    {
     "name": "stdout",
     "output_type": "stream",
     "text": [
      "<class 'pandas.core.frame.DataFrame'>\n",
      "RangeIndex: 536641 entries, 0 to 536640\n",
      "Data columns (total 2 columns):\n",
      " #   Column       Non-Null Count   Dtype         \n",
      "---  ------       --------------   -----         \n",
      " 0   InvoiceDate  536641 non-null  datetime64[ns]\n",
      " 1   TotalPrices  536641 non-null  float64       \n",
      "dtypes: datetime64[ns](1), float64(1)\n",
      "memory usage: 8.2 MB\n"
     ]
    }
   ],
   "source": [
    "dataset.info()"
   ]
  },
  {
   "attachments": {},
   "cell_type": "markdown",
   "metadata": {},
   "source": [
    "Melakukan visualisasi data untuk melihat hubungan antara variabel."
   ]
  },
  {
   "cell_type": "code",
   "execution_count": 22,
   "metadata": {},
   "outputs": [
    {
     "data": {
      "image/png": "[encoded data removed]",
      "text/plain": [
       "<Figure size 1500x500 with 1 Axes>"
      ]
     },
     "metadata": {},
     "output_type": "display_data"
    }
   ],
   "source": [
    "# Plot\n",
    "fig, axs = plt.subplots(figsize=(15,5))\n",
    "dataset.plot('InvoiceDate', 'TotalPrices', ax=axs)\n",
    "\n",
    "plt.tight_layout()"
   ]
  },
  {
   "attachments": {},
   "cell_type": "markdown",
   "metadata": {},
   "source": [
    "Menampilkan ringkasan statistik deskriptif dari dataset."
   ]
  },
  {
   "cell_type": "code",
   "execution_count": 23,
   "metadata": {},
   "outputs": [
    {
     "data": {
      "text/html": [
       "<div>\n",
       "<style scoped>\n",
       "    .dataframe tbody tr th:only-of-type {\n",
       "        vertical-align: middle;\n",
       "    }\n",
       "\n",
       "    .dataframe tbody tr th {\n",
       "        vertical-align: top;\n",
       "    }\n",
       "\n",
       "    .dataframe thead th {\n",
       "        text-align: right;\n",
       "    }\n",
       "</style>\n",
       "<table border=\"1\" class=\"dataframe\">\n",
       "  <thead>\n",
       "    <tr style=\"text-align: right;\">\n",
       "      <th></th>\n",
       "      <th>TotalPrices</th>\n",
       "    </tr>\n",
       "  </thead>\n",
       "  <tbody>\n",
       "    <tr>\n",
       "      <th>count</th>\n",
       "      <td>536641.000000</td>\n",
       "    </tr>\n",
       "    <tr>\n",
       "      <th>mean</th>\n",
       "      <td>18.123861</td>\n",
       "    </tr>\n",
       "    <tr>\n",
       "      <th>std</th>\n",
       "      <td>380.656263</td>\n",
       "    </tr>\n",
       "    <tr>\n",
       "      <th>min</th>\n",
       "      <td>-168469.600000</td>\n",
       "    </tr>\n",
       "    <tr>\n",
       "      <th>25%</th>\n",
       "      <td>3.750000</td>\n",
       "    </tr>\n",
       "    <tr>\n",
       "      <th>50%</th>\n",
       "      <td>9.870000</td>\n",
       "    </tr>\n",
       "    <tr>\n",
       "      <th>75%</th>\n",
       "      <td>17.400000</td>\n",
       "    </tr>\n",
       "    <tr>\n",
       "      <th>max</th>\n",
       "      <td>168469.600000</td>\n",
       "    </tr>\n",
       "  </tbody>\n",
       "</table>\n",
       "</div>"
      ],
      "text/plain": [
       "         TotalPrices\n",
       "count  536641.000000\n",
       "mean       18.123861\n",
       "std       380.656263\n",
       "min   -168469.600000\n",
       "25%         3.750000\n",
       "50%         9.870000\n",
       "75%        17.400000\n",
       "max    168469.600000"
      ]
     },
     "execution_count": 23,
     "metadata": {},
     "output_type": "execute_result"
    }
   ],
   "source": [
    "dataset.describe()"
   ]
  },
  {
   "attachments": {},
   "cell_type": "markdown",
   "metadata": {},
   "source": [
    "Mendeteksi outliers dengan visualisasi BoxPlot."
   ]
  },
  {
   "cell_type": "code",
   "execution_count": 24,
   "metadata": {},
   "outputs": [
    {
     "data": {
      "image/png": "[encoded data removed]",
      "text/plain": [
       "<Figure size 1500x500 with 1 Axes>"
      ]
     },
     "metadata": {},
     "output_type": "display_data"
    }
   ],
   "source": [
    "# Outlier Detection with BoxPlot\n",
    "fig, axs = plt.subplots(figsize=(15, 5))\n",
    "\n",
    "sns.boxplot(x=dataset['TotalPrices'], ax=axs)\n",
    "\n",
    "fig.suptitle('Outliers detections with BoxPlot')\n",
    "plt.tight_layout()"
   ]
  },
  {
   "attachments": {},
   "cell_type": "markdown",
   "metadata": {},
   "source": [
    "Melihat hasil minimum dan maksimun daripada metode IQR untuk menangasi outliers."
   ]
  },
  {
   "cell_type": "code",
   "execution_count": 25,
   "metadata": {},
   "outputs": [
    {
     "data": {
      "text/html": [
       "<div>\n",
       "<style scoped>\n",
       "    .dataframe tbody tr th:only-of-type {\n",
       "        vertical-align: middle;\n",
       "    }\n",
       "\n",
       "    .dataframe tbody tr th {\n",
       "        vertical-align: top;\n",
       "    }\n",
       "\n",
       "    .dataframe thead th {\n",
       "        text-align: right;\n",
       "    }\n",
       "</style>\n",
       "<table border=\"1\" class=\"dataframe\">\n",
       "  <thead>\n",
       "    <tr style=\"text-align: right;\">\n",
       "      <th></th>\n",
       "      <th>Minimum Value</th>\n",
       "      <th>Maximum Value</th>\n",
       "    </tr>\n",
       "  </thead>\n",
       "  <tbody>\n",
       "    <tr>\n",
       "      <th>TotalPrices</th>\n",
       "      <td>-16.725</td>\n",
       "      <td>37.875</td>\n",
       "    </tr>\n",
       "  </tbody>\n",
       "</table>\n",
       "</div>"
      ],
      "text/plain": [
       "             Minimum Value  Maximum Value\n",
       "TotalPrices        -16.725         37.875"
      ]
     },
     "execution_count": 25,
     "metadata": {},
     "output_type": "execute_result"
    }
   ],
   "source": [
    "# Convert Dtype\n",
    "dataset['InvoiceDate'] = dataset['InvoiceDate'].astype('str')\n",
    "\n",
    "# Handling Outliers\n",
    "Q1 = (dataset[['TotalPrices']]).quantile(0.25)\n",
    "Q3 = (dataset[['TotalPrices']]).quantile(0.75)\n",
    "IQR = Q3 - Q1\n",
    "\n",
    "maximun = Q3 + (1.5 * IQR)\n",
    "minimum = Q1 - (1.5 * IQR)\n",
    "\n",
    "dataset_outlier = pd.DataFrame({'Minimum Value': minimum, \n",
    "                                'Maximum Value': maximun,}, \n",
    "                                index=['TotalPrices'])\n",
    "dataset_outlier"
   ]
  },
  {
   "attachments": {},
   "cell_type": "markdown",
   "metadata": {},
   "source": [
    "Menangani outliers dengan normalisasi data berdasarkan metode IQR."
   ]
  },
  {
   "cell_type": "code",
   "execution_count": 26,
   "metadata": {},
   "outputs": [
    {
     "name": "stderr",
     "output_type": "stream",
     "text": [
      "/var/folders/ns/342r4y8j1ss3gs05mnjypws00000gn/T/ipykernel_82436/2309745465.py:1: FutureWarning:\n",
      "\n",
      "Automatic reindexing on DataFrame vs Series comparisons is deprecated and will raise ValueError in a future version. Do `left, right = left.align(right, axis=1, copy=False)` before e.g. `left == right`\n",
      "\n",
      "/var/folders/ns/342r4y8j1ss3gs05mnjypws00000gn/T/ipykernel_82436/2309745465.py:2: FutureWarning:\n",
      "\n",
      "Automatic reindexing on DataFrame vs Series comparisons is deprecated and will raise ValueError in a future version. Do `left, right = left.align(right, axis=1, copy=False)` before e.g. `left == right`\n",
      "\n"
     ]
    }
   ],
   "source": [
    "more_than = (dataset > maximun)\n",
    "lower_than = (dataset < minimum)\n",
    "\n",
    "dataset = dataset.mask(more_than, maximun, axis=1)\n",
    "dataset = dataset.mask(lower_than, minimum, axis=1)"
   ]
  },
  {
   "attachments": {},
   "cell_type": "markdown",
   "metadata": {},
   "source": [
    "Memvalidasi persebaran data setelah menangani masalah outliers dengan metode IQR, visualisasi dengan BoxPlot."
   ]
  },
  {
   "cell_type": "code",
   "execution_count": 27,
   "metadata": {},
   "outputs": [
    {
     "data": {
      "image/png": "[encoded data removed]",
      "text/plain": [
       "<Figure size 1500x500 with 1 Axes>"
      ]
     },
     "metadata": {},
     "output_type": "display_data"
    }
   ],
   "source": [
    "# Outlier Detection with BoxPlot\n",
    "fig, axs = plt.subplots(figsize=(15, 5))\n",
    "sns.boxplot(x=dataset['TotalPrices'], ax=axs)\n",
    "\n",
    "fig.suptitle('Outliers detections with BoxPlot')\n",
    "plt.tight_layout()"
   ]
  },
  {
   "attachments": {},
   "cell_type": "markdown",
   "metadata": {},
   "source": [
    "Memvisualisasikan persebaran dataset setelah di normalisasi."
   ]
  },
  {
   "cell_type": "code",
   "execution_count": 28,
   "metadata": {},
   "outputs": [
    {
     "data": {
      "image/png": "[encoded data removed]",
      "text/plain": [
       "<Figure size 1500x500 with 1 Axes>"
      ]
     },
     "metadata": {},
     "output_type": "display_data"
    }
   ],
   "source": [
    "# Convert Dtype \n",
    "dataset['InvoiceDate'] = pd.to_datetime(dataset['InvoiceDate'])\n",
    "\n",
    "# Plot\n",
    "fig, axs = plt.subplots(figsize=(15,5))\n",
    "dataset.plot('InvoiceDate', 'TotalPrices', ax=axs)\n",
    "\n",
    "plt.tight_layout()"
   ]
  },
  {
   "attachments": {},
   "cell_type": "markdown",
   "metadata": {},
   "source": [
    "Melakukan visualisasi data dengan plot garis untuk melihat grafik penjualan harian."
   ]
  },
  {
   "cell_type": "code",
   "execution_count": 29,
   "metadata": {},
   "outputs": [
    {
     "data": {
      "application/vnd.plotly.v1+json": {
       "config": {
        "plotlyServerURL": "https://plot.ly"
       },
       "data": [
        {
         "hovertemplate": "variable=TotalPrices<br>InvoiceDate=%{x}<br>value=%{y}<extra></extra>",
         "legendgroup": "TotalPrices",
         "line": {
          "color": "#636efa",
          "dash": "solid"
         },
         "marker": {
          "symbol": "circle"
         },
         "mode": "lines",
         "name": "TotalPrices",
         "orientation": "v",
         "showlegend": true,
         "type": "scatter",
         "x": [
          "2010-12-01T00:00:00",
          "2010-12-02T00:00:00",
          "2010-12-03T00:00:00",
          "2010-12-04T00:00:00",
          "2010-12-05T00:00:00",
          "2010-12-06T00:00:00",
          "2010-12-07T00:00:00",
          "2010-12-08T00:00:00",
          "2010-12-09T00:00:00",
          "2010-12-10T00:00:00",
          "2010-12-11T00:00:00",
          "2010-12-12T00:00:00",
          "2010-12-13T00:00:00",
          "2010-12-14T00:00:00",
          "2010-12-15T00:00:00",
          "2010-12-16T00:00:00",
          "2010-12-17T00:00:00",
          "2010-12-18T00:00:00",
          "2010-12-19T00:00:00",
          "2010-12-20T00:00:00",
          "2010-12-21T00:00:00",
          "2010-12-22T00:00:00",
          "2010-12-23T00:00:00",
          "2010-12-24T00:00:00",
          "2010-12-25T00:00:00",
          "2010-12-26T00:00:00",
          "2010-12-27T00:00:00",
          "2010-12-28T00:00:00",
          "2010-12-29T00:00:00",
          "2010-12-30T00:00:00",
          "2010-12-31T00:00:00",
          "2011-01-01T00:00:00",
          "2011-01-02T00:00:00",
          "2011-01-03T00:00:00",
          "2011-01-04T00:00:00",
          "2011-01-05T00:00:00",
          "2011-01-06T00:00:00",
          "2011-01-07T00:00:00",
          "2011-01-08T00:00:00",
          "2011-01-09T00:00:00",
          "2011-01-10T00:00:00",
          "2011-01-11T00:00:00",
          "2011-01-12T00:00:00",
          "2011-01-13T00:00:00",
          "2011-01-14T00:00:00",
          "2011-01-15T00:00:00",
          "2011-01-16T00:00:00",
          "2011-01-17T00:00:00",
          "2011-01-18T00:00:00",
          "2011-01-19T00:00:00",
          "2011-01-20T00:00:00",
          "2011-01-21T00:00:00",
          "2011-01-22T00:00:00",
          "2011-01-23T00:00:00",
          "2011-01-24T00:00:00",
          "2011-01-25T00:00:00",
          "2011-01-26T00:00:00",
          "2011-01-27T00:00:00",
          "2011-01-28T00:00:00",
          "2011-01-29T00:00:00",
          "2011-01-30T00:00:00",
          "2011-01-31T00:00:00",
          "2011-02-01T00:00:00",
          "2011-02-02T00:00:00",
          "2011-02-03T00:00:00",
          "2011-02-04T00:00:00",
          "2011-02-05T00:00:00",
          "2011-02-06T00:00:00",
          "2011-02-07T00:00:00",
          "2011-02-08T00:00:00",
          "2011-02-09T00:00:00",
          "2011-02-10T00:00:00",
          "2011-02-11T00:00:00",
          "2011-02-12T00:00:00",
          "2011-02-13T00:00:00",
          "2011-02-14T00:00:00",
          "2011-02-15T00:00:00",
          "2011-02-16T00:00:00",
          "2011-02-17T00:00:00",
          "2011-02-18T00:00:00",
          "2011-02-19T00:00:00",
          "2011-02-20T00:00:00",
          "2011-02-21T00:00:00",
          "2011-02-22T00:00:00",
          "2011-02-23T00:00:00",
          "2011-02-24T00:00:00",
          "2011-02-25T00:00:00",
          "2011-02-26T00:00:00",
          "2011-02-27T00:00:00",
          "2011-02-28T00:00:00",
          "2011-03-01T00:00:00",
          "2011-03-02T00:00:00",
          "2011-03-03T00:00:00",
          "2011-03-04T00:00:00",
          "2011-03-05T00:00:00",
          "2011-03-06T00:00:00",
          "2011-03-07T00:00:00",
          "2011-03-08T00:00:00",
          "2011-03-09T00:00:00",
          "2011-03-10T00:00:00",
          "2011-03-11T00:00:00",
          "2011-03-12T00:00:00",
          "2011-03-13T00:00:00",
          "2011-03-14T00:00:00",
          "2011-03-15T00:00:00",
          "2011-03-16T00:00:00",
          "2011-03-17T00:00:00",
          "2011-03-18T00:00:00",
          "2011-03-19T00:00:00",
          "2011-03-20T00:00:00",
          "2011-03-21T00:00:00",
          "2011-03-22T00:00:00",
          "2011-03-23T00:00:00",
          "2011-03-24T00:00:00",
          "2011-03-25T00:00:00",
          "2011-03-26T00:00:00",
          "2011-03-27T00:00:00",
          "2011-03-28T00:00:00",
          "2011-03-29T00:00:00",
          "2011-03-30T00:00:00",
          "2011-03-31T00:00:00",
          "2011-04-01T00:00:00",
          "2011-04-02T00:00:00",
          "2011-04-03T00:00:00",
          "2011-04-04T00:00:00",
          "2011-04-05T00:00:00",
          "2011-04-06T00:00:00",
          "2011-04-07T00:00:00",
          "2011-04-08T00:00:00",
          "2011-04-09T00:00:00",
          "2011-04-10T00:00:00",
          "2011-04-11T00:00:00",
          "2011-04-12T00:00:00",
          "2011-04-13T00:00:00",
          "2011-04-14T00:00:00",
          "2011-04-15T00:00:00",
          "2011-04-16T00:00:00",
          "2011-04-17T00:00:00",
          "2011-04-18T00:00:00",
          "2011-04-19T00:00:00",
          "2011-04-20T00:00:00",
          "2011-04-21T00:00:00",
          "2011-04-22T00:00:00",
          "2011-04-23T00:00:00",
          "2011-04-24T00:00:00",
          "2011-04-25T00:00:00",
          "2011-04-26T00:00:00",
          "2011-04-27T00:00:00",
          "2011-04-28T00:00:00",
          "2011-04-29T00:00:00",
          "2011-04-30T00:00:00",
          "2011-05-01T00:00:00",
          "2011-05-02T00:00:00",
          "2011-05-03T00:00:00",
          "2011-05-04T00:00:00",
          "2011-05-05T00:00:00",
          "2011-05-06T00:00:00",
          "2011-05-07T00:00:00",
          "2011-05-08T00:00:00",
          "2011-05-09T00:00:00",
          "2011-05-10T00:00:00",
          "2011-05-11T00:00:00",
          "2011-05-12T00:00:00",
          "2011-05-13T00:00:00",
          "2011-05-14T00:00:00",
          "2011-05-15T00:00:00",
          "2011-05-16T00:00:00",
          "2011-05-17T00:00:00",
          "2011-05-18T00:00:00",
          "2011-05-19T00:00:00",
          "2011-05-20T00:00:00",
          "2011-05-21T00:00:00",
          "2011-05-22T00:00:00",
          "2011-05-23T00:00:00",
          "2011-05-24T00:00:00",
          "2011-05-25T00:00:00",
          "2011-05-26T00:00:00",
          "2011-05-27T00:00:00",
          "2011-05-28T00:00:00",
          "2011-05-29T00:00:00",
          "2011-05-30T00:00:00",
          "2011-05-31T00:00:00",
          "2011-06-01T00:00:00",
          "2011-06-02T00:00:00",
          "2011-06-03T00:00:00",
          "2011-06-04T00:00:00",
          "2011-06-05T00:00:00",
          "2011-06-06T00:00:00",
          "2011-06-07T00:00:00",
          "2011-06-08T00:00:00",
          "2011-06-09T00:00:00",
          "2011-06-10T00:00:00",
          "2011-06-11T00:00:00",
          "2011-06-12T00:00:00",
          "2011-06-13T00:00:00",
          "2011-06-14T00:00:00",
          "2011-06-15T00:00:00",
          "2011-06-16T00:00:00",
          "2011-06-17T00:00:00",
          "2011-06-18T00:00:00",
          "2011-06-19T00:00:00",
          "2011-06-20T00:00:00",
          "2011-06-21T00:00:00",
          "2011-06-22T00:00:00",
          "2011-06-23T00:00:00",
          "2011-06-24T00:00:00",
          "2011-06-25T00:00:00",
          "2011-06-26T00:00:00",
          "2011-06-27T00:00:00",
          "2011-06-28T00:00:00",
          "2011-06-29T00:00:00",
          "2011-06-30T00:00:00",
          "2011-07-01T00:00:00",
          "2011-07-02T00:00:00",
          "2011-07-03T00:00:00",
          "2011-07-04T00:00:00",
          "2011-07-05T00:00:00",
          "2011-07-06T00:00:00",
          "2011-07-07T00:00:00",
          "2011-07-08T00:00:00",
          "2011-07-09T00:00:00",
          "2011-07-10T00:00:00",
          "2011-07-11T00:00:00",
          "2011-07-12T00:00:00",
          "2011-07-13T00:00:00",
          "2011-07-14T00:00:00",
          "2011-07-15T00:00:00",
          "2011-07-16T00:00:00",
          "2011-07-17T00:00:00",
          "2011-07-18T00:00:00",
          "2011-07-19T00:00:00",
          "2011-07-20T00:00:00",
          "2011-07-21T00:00:00",
          "2011-07-22T00:00:00",
          "2011-07-23T00:00:00",
          "2011-07-24T00:00:00",
          "2011-07-25T00:00:00",
          "2011-07-26T00:00:00",
          "2011-07-27T00:00:00",
          "2011-07-28T00:00:00",
          "2011-07-29T00:00:00",
          "2011-07-30T00:00:00",
          "2011-07-31T00:00:00",
          "2011-08-01T00:00:00",
          "2011-08-02T00:00:00",
          "2011-08-03T00:00:00",
          "2011-08-04T00:00:00",
          "2011-08-05T00:00:00",
          "2011-08-06T00:00:00",
          "2011-08-07T00:00:00",
          "2011-08-08T00:00:00",
          "2011-08-09T00:00:00",
          "2011-08-10T00:00:00",
          "2011-08-11T00:00:00",
          "2011-08-12T00:00:00",
          "2011-08-13T00:00:00",
          "2011-08-14T00:00:00",
          "2011-08-15T00:00:00",
          "2011-08-16T00:00:00",
          "2011-08-17T00:00:00",
          "2011-08-18T00:00:00",
          "2011-08-19T00:00:00",
          "2011-08-20T00:00:00",
          "2011-08-21T00:00:00",
          "2011-08-22T00:00:00",
          "2011-08-23T00:00:00",
          "2011-08-24T00:00:00",
          "2011-08-25T00:00:00",
          "2011-08-26T00:00:00",
          "2011-08-27T00:00:00",
          "2011-08-28T00:00:00",
          "2011-08-29T00:00:00",
          "2011-08-30T00:00:00",
          "2011-08-31T00:00:00",
          "2011-09-01T00:00:00",
          "2011-09-02T00:00:00",
          "2011-09-03T00:00:00",
          "2011-09-04T00:00:00",
          "2011-09-05T00:00:00",
          "2011-09-06T00:00:00",
          "2011-09-07T00:00:00",
          "2011-09-08T00:00:00",
          "2011-09-09T00:00:00",
          "2011-09-10T00:00:00",
          "2011-09-11T00:00:00",
          "2011-09-12T00:00:00",
          "2011-09-13T00:00:00",
          "2011-09-14T00:00:00",
          "2011-09-15T00:00:00",
          "2011-09-16T00:00:00",
          "2011-09-17T00:00:00",
          "2011-09-18T00:00:00",
          "2011-09-19T00:00:00",
          "2011-09-20T00:00:00",
          "2011-09-21T00:00:00",
          "2011-09-22T00:00:00",
          "2011-09-23T00:00:00",
          "2011-09-24T00:00:00",
          "2011-09-25T00:00:00",
          "2011-09-26T00:00:00",
          "2011-09-27T00:00:00",
          "2011-09-28T00:00:00",
          "2011-09-29T00:00:00",
          "2011-09-30T00:00:00",
          "2011-10-01T00:00:00",
          "2011-10-02T00:00:00",
          "2011-10-03T00:00:00",
          "2011-10-04T00:00:00",
          "2011-10-05T00:00:00",
          "2011-10-06T00:00:00",
          "2011-10-07T00:00:00",
          "2011-10-08T00:00:00",
          "2011-10-09T00:00:00",
          "2011-10-10T00:00:00",
          "2011-10-11T00:00:00",
          "2011-10-12T00:00:00",
          "2011-10-13T00:00:00",
          "2011-10-14T00:00:00",
          "2011-10-15T00:00:00",
          "2011-10-16T00:00:00",
          "2011-10-17T00:00:00",
          "2011-10-18T00:00:00",
          "2011-10-19T00:00:00",
          "2011-10-20T00:00:00",
          "2011-10-21T00:00:00",
          "2011-10-22T00:00:00",
          "2011-10-23T00:00:00",
          "2011-10-24T00:00:00",
          "2011-10-25T00:00:00",
          "2011-10-26T00:00:00",
          "2011-10-27T00:00:00",
          "2011-10-28T00:00:00",
          "2011-10-29T00:00:00",
          "2011-10-30T00:00:00",
          "2011-10-31T00:00:00",
          "2011-11-01T00:00:00",
          "2011-11-02T00:00:00",
          "2011-11-03T00:00:00",
          "2011-11-04T00:00:00",
          "2011-11-05T00:00:00",
          "2011-11-06T00:00:00",
          "2011-11-07T00:00:00",
          "2011-11-08T00:00:00",
          "2011-11-09T00:00:00",
          "2011-11-10T00:00:00",
          "2011-11-11T00:00:00",
          "2011-11-12T00:00:00",
          "2011-11-13T00:00:00",
          "2011-11-14T00:00:00",
          "2011-11-15T00:00:00",
          "2011-11-16T00:00:00",
          "2011-11-17T00:00:00",
          "2011-11-18T00:00:00",
          "2011-11-19T00:00:00",
          "2011-11-20T00:00:00",
          "2011-11-21T00:00:00",
          "2011-11-22T00:00:00",
          "2011-11-23T00:00:00",
          "2011-11-24T00:00:00",
          "2011-11-25T00:00:00",
          "2011-11-26T00:00:00",
          "2011-11-27T00:00:00",
          "2011-11-28T00:00:00",
          "2011-11-29T00:00:00",
          "2011-11-30T00:00:00",
          "2011-12-01T00:00:00",
          "2011-12-02T00:00:00",
          "2011-12-03T00:00:00",
          "2011-12-04T00:00:00",
          "2011-12-05T00:00:00",
          "2011-12-06T00:00:00",
          "2011-12-07T00:00:00",
          "2011-12-08T00:00:00",
          "2011-12-09T00:00:00"
         ],
         "xaxis": "x",
         "y": [
          37203.405,
          30136.105,
          28005.43,
          0,
          24857.235,
          39925.87,
          36548.78,
          32409.055,
          33745.01,
          33474.045,
          0,
          12875.19,
          28581.105,
          27674.165,
          20171.09,
          28879.11,
          33521.355,
          0,
          5488.875,
          18892.765,
          20938.23,
          3659.945,
          9686.775,
          0,
          0,
          0,
          0,
          0,
          0,
          0,
          0,
          0,
          0,
          0,
          12800.04,
          18813.415,
          24245.795000000002,
          20433.54,
          0,
          12702.07,
          19973.7,
          18907.935,
          18555.065,
          15735.11,
          20990.5,
          0,
          5296.05,
          24616.28,
          13683.545,
          16360.32,
          15399.235,
          19888.415,
          0,
          7644.125,
          19439.475,
          21527.335,
          15151.375,
          19506.945,
          13887.6,
          0,
          6272.485,
          17573.3,
          20502.97,
          16664.96,
          13511.210000000001,
          16599.915,
          0,
          2786.075,
          13281.24,
          14346.995,
          11207.55,
          10247.125,
          11417.075,
          0,
          4857.2,
          14265.38,
          18177.74,
          18633.765,
          21582.33,
          11256.825,
          0,
          7949.85,
          18659.920000000002,
          20929.07,
          20407.685,
          19160.845,
          16182.33,
          0,
          7830.2300000000005,
          18297.025,
          19048.44,
          13483.47,
          18603.825,
          13500.96,
          0,
          7855.825,
          20889.725,
          19844.47,
          15928.47,
          16057.545,
          14627.91,
          0,
          3898.77,
          15117.945,
          16767.2,
          14389.2,
          21155.715,
          17502.53,
          0,
          16728.615,
          13477.665,
          24605.48,
          16859,
          19930.9,
          16541.14,
          0,
          7130.72,
          17722.6,
          30993.715,
          20351.785,
          22679.525,
          17096.175,
          0,
          5352.975,
          19453.68,
          15444.99,
          12492.9,
          14693.960000000001,
          19663.965,
          0,
          8439.045,
          17081.935,
          17757.75,
          15817.595,
          25003.74,
          20378.446,
          0,
          11298.155,
          26854.225,
          20093.425,
          17098.225,
          24375.755,
          0,
          0,
          0,
          0,
          22431.365,
          16612.225,
          17412.945,
          0,
          0,
          5686.23,
          0,
          18048.82,
          18622.185,
          22385.65,
          25603.13,
          0,
          16470.91,
          21573.64,
          32913.685,
          23574.505,
          30026.21,
          21902.165,
          0,
          7728.13,
          23666.295,
          27080.89,
          22681.875,
          29107.415,
          18245.195,
          0,
          19612.635,
          20826.735,
          20258.125,
          17070.565,
          16165.41,
          17120.555,
          0,
          5387.285,
          0,
          16153.625,
          13629.315,
          20968.125,
          12202.285,
          0,
          19966.94,
          15065.66,
          21509.625,
          30722.6,
          24697.26,
          14425.35,
          0,
          10142.24,
          18120.62,
          18933.425,
          22285.05,
          22294.4,
          14353.115,
          0,
          15705.460000000001,
          22776.725,
          17150.495,
          14747.38,
          22477.245,
          14887.71,
          0,
          5853.46,
          12229.305,
          16029.91,
          15123.72,
          21160.71,
          11370.04,
          0,
          5307.72,
          21605.655,
          26085.185,
          18547.28,
          22761.005,
          19181.3,
          0,
          5241.805,
          16807.05,
          17454.535,
          17282.74,
          21485.055,
          11629.01,
          0,
          13459.62,
          23466.745,
          26854.595,
          19952.195,
          22273.415,
          15272.085,
          0,
          15652.155,
          21976.98,
          15905.076000000001,
          16354.81,
          22608.675,
          15979.555,
          0,
          14241.14,
          16133.485,
          19614.405,
          21276.935,
          28725.72,
          16345.82,
          0,
          6237.445,
          17163.165,
          15999.93,
          17563.88,
          31856.345,
          15608.185,
          0,
          4857.785,
          14131.515,
          15577.33,
          23388.21,
          25303.26,
          13760.11,
          0,
          11377.575,
          20155.565,
          20273.035,
          25477.765,
          18476.305,
          15871.72,
          0,
          9220.22,
          0,
          25935.755,
          14734.9,
          23150.55,
          25275.1,
          0,
          15119.595,
          21620.015,
          19075.555,
          25260.03,
          22377.53,
          22358.53,
          0,
          25247.155,
          23109.95,
          33071.03,
          17786.165,
          32262.37,
          23093.255,
          0,
          12133.99,
          25652.465,
          26737.13,
          33632.35,
          40839.565,
          31795.34,
          0,
          25994.271,
          21209.501,
          25543.905,
          33236.055,
          35714.505,
          26043.845,
          0,
          10247.555,
          30099.54,
          32967.665,
          36958.095,
          37172.43,
          31317.98,
          0,
          9836.73,
          35142.42,
          34837.335,
          24924.295000000002,
          29288.65,
          25819.96,
          0,
          14964.78,
          35563.85,
          35963.455,
          27990.685,
          34117.975,
          22609.6,
          0,
          11665.25,
          29532.09,
          30232.225,
          23033.565,
          33619.815,
          22719.075,
          0,
          29466.885,
          42967.66,
          21788.09,
          30998.335,
          30333.75,
          35136.59,
          0,
          35533.985,
          28781.02,
          44530.575,
          37781.41,
          45757.885,
          42730.31,
          0,
          28191.025,
          42958.47,
          38395.915,
          48106.475,
          44656.355,
          32961.37,
          0,
          29084.865,
          33346.53,
          43106.07,
          47767.225,
          40189.045,
          33051.11,
          0,
          17628.915,
          38597.13,
          46650.415,
          43490.95,
          36301.125,
          35899.025,
          0,
          19349.495,
          60780.61,
          34729.68,
          36071.93,
          50208.78,
          21623.535
         ],
         "yaxis": "y"
        }
       ],
       "layout": {
        "legend": {
         "title": {
          "text": "variable"
         },
         "tracegroupgap": 0
        },
        "template": {
         "data": {
          "bar": [
           {
            "error_x": {
             "color": "#2a3f5f"
            },
            "error_y": {
             "color": "#2a3f5f"
            },
            "marker": {
             "line": {
              "color": "#E5ECF6",
              "width": 0.5
             },
             "pattern": {
              "fillmode": "overlay",
              "size": 10,
              "solidity": 0.2
             }
            },
            "type": "bar"
           }
          ],
          "barpolar": [
           {
            "marker": {
             "line": {
              "color": "#E5ECF6",
              "width": 0.5
             },
             "pattern": {
              "fillmode": "overlay",
              "size": 10,
              "solidity": 0.2
             }
            },
            "type": "barpolar"
           }
          ],
          "carpet": [
           {
            "aaxis": {
             "endlinecolor": "#2a3f5f",
             "gridcolor": "white",
             "linecolor": "white",
             "minorgridcolor": "white",
             "startlinecolor": "#2a3f5f"
            },
            "baxis": {
             "endlinecolor": "#2a3f5f",
             "gridcolor": "white",
             "linecolor": "white",
             "minorgridcolor": "white",
             "startlinecolor": "#2a3f5f"
            },
            "type": "carpet"
           }
          ],
          "choropleth": [
           {
            "colorbar": {
             "outlinewidth": 0,
             "ticks": ""
            },
            "type": "choropleth"
           }
          ],
          "contour": [
           {
            "colorbar": {
             "outlinewidth": 0,
             "ticks": ""
            },
            "colorscale": [
             [
              0,
              "#0d0887"
             ],
             [
              0.1111111111111111,
              "#46039f"
             ],
             [
              0.2222222222222222,
              "#7201a8"
             ],
             [
              0.3333333333333333,
              "#9c179e"
             ],
             [
              0.4444444444444444,
              "#bd3786"
             ],
             [
              0.5555555555555556,
              "#d8576b"
             ],
             [
              0.6666666666666666,
              "#ed7953"
             ],
             [
              0.7777777777777778,
              "#fb9f3a"
             ],
             [
              0.8888888888888888,
              "#fdca26"
             ],
             [
              1,
              "#f0f921"
             ]
            ],
            "type": "contour"
           }
          ],
          "contourcarpet": [
           {
            "colorbar": {
             "outlinewidth": 0,
             "ticks": ""
            },
            "type": "contourcarpet"
           }
          ],
          "heatmap": [
           {
            "colorbar": {
             "outlinewidth": 0,
             "ticks": ""
            },
            "colorscale": [
             [
              0,
              "#0d0887"
             ],
             [
              0.1111111111111111,
              "#46039f"
             ],
             [
              0.2222222222222222,
              "#7201a8"
             ],
             [
              0.3333333333333333,
              "#9c179e"
             ],
             [
              0.4444444444444444,
              "#bd3786"
             ],
             [
              0.5555555555555556,
              "#d8576b"
             ],
             [
              0.6666666666666666,
              "#ed7953"
             ],
             [
              0.7777777777777778,
              "#fb9f3a"
             ],
             [
              0.8888888888888888,
              "#fdca26"
             ],
             [
              1,
              "#f0f921"
             ]
            ],
            "type": "heatmap"
           }
          ],
          "heatmapgl": [
           {
            "colorbar": {
             "outlinewidth": 0,
             "ticks": ""
            },
            "colorscale": [
             [
              0,
              "#0d0887"
             ],
             [
              0.1111111111111111,
              "#46039f"
             ],
             [
              0.2222222222222222,
              "#7201a8"
             ],
             [
              0.3333333333333333,
              "#9c179e"
             ],
             [
              0.4444444444444444,
              "#bd3786"
             ],
             [
              0.5555555555555556,
              "#d8576b"
             ],
             [
              0.6666666666666666,
              "#ed7953"
             ],
             [
              0.7777777777777778,
              "#fb9f3a"
             ],
             [
              0.8888888888888888,
              "#fdca26"
             ],
             [
              1,
              "#f0f921"
             ]
            ],
            "type": "heatmapgl"
           }
          ],
          "histogram": [
           {
            "marker": {
             "pattern": {
              "fillmode": "overlay",
              "size": 10,
              "solidity": 0.2
             }
            },
            "type": "histogram"
           }
          ],
          "histogram2d": [
           {
            "colorbar": {
             "outlinewidth": 0,
             "ticks": ""
            },
            "colorscale": [
             [
              0,
              "#0d0887"
             ],
             [
              0.1111111111111111,
              "#46039f"
             ],
             [
              0.2222222222222222,
              "#7201a8"
             ],
             [
              0.3333333333333333,
              "#9c179e"
             ],
             [
              0.4444444444444444,
              "#bd3786"
             ],
             [
              0.5555555555555556,
              "#d8576b"
             ],
             [
              0.6666666666666666,
              "#ed7953"
             ],
             [
              0.7777777777777778,
              "#fb9f3a"
             ],
             [
              0.8888888888888888,
              "#fdca26"
             ],
             [
              1,
              "#f0f921"
             ]
            ],
            "type": "histogram2d"
           }
          ],
          "histogram2dcontour": [
           {
            "colorbar": {
             "outlinewidth": 0,
             "ticks": ""
            },
            "colorscale": [
             [
              0,
              "#0d0887"
             ],
             [
              0.1111111111111111,
              "#46039f"
             ],
             [
              0.2222222222222222,
              "#7201a8"
             ],
             [
              0.3333333333333333,
              "#9c179e"
             ],
             [
              0.4444444444444444,
              "#bd3786"
             ],
             [
              0.5555555555555556,
              "#d8576b"
             ],
             [
              0.6666666666666666,
              "#ed7953"
             ],
             [
              0.7777777777777778,
              "#fb9f3a"
             ],
             [
              0.8888888888888888,
              "#fdca26"
             ],
             [
              1,
              "#f0f921"
             ]
            ],
            "type": "histogram2dcontour"
           }
          ],
          "mesh3d": [
           {
            "colorbar": {
             "outlinewidth": 0,
             "ticks": ""
            },
            "type": "mesh3d"
           }
          ],
          "parcoords": [
           {
            "line": {
             "colorbar": {
              "outlinewidth": 0,
              "ticks": ""
             }
            },
            "type": "parcoords"
           }
          ],
          "pie": [
           {
            "automargin": true,
            "type": "pie"
           }
          ],
          "scatter": [
           {
            "fillpattern": {
             "fillmode": "overlay",
             "size": 10,
             "solidity": 0.2
            },
            "type": "scatter"
           }
          ],
          "scatter3d": [
           {
            "line": {
             "colorbar": {
              "outlinewidth": 0,
              "ticks": ""
             }
            },
            "marker": {
             "colorbar": {
              "outlinewidth": 0,
              "ticks": ""
             }
            },
            "type": "scatter3d"
           }
          ],
          "scattercarpet": [
           {
            "marker": {
             "colorbar": {
              "outlinewidth": 0,
              "ticks": ""
             }
            },
            "type": "scattercarpet"
           }
          ],
          "scattergeo": [
           {
            "marker": {
             "colorbar": {
              "outlinewidth": 0,
              "ticks": ""
             }
            },
            "type": "scattergeo"
           }
          ],
          "scattergl": [
           {
            "marker": {
             "colorbar": {
              "outlinewidth": 0,
              "ticks": ""
             }
            },
            "type": "scattergl"
           }
          ],
          "scattermapbox": [
           {
            "marker": {
             "colorbar": {
              "outlinewidth": 0,
              "ticks": ""
             }
            },
            "type": "scattermapbox"
           }
          ],
          "scatterpolar": [
           {
            "marker": {
             "colorbar": {
              "outlinewidth": 0,
              "ticks": ""
             }
            },
            "type": "scatterpolar"
           }
          ],
          "scatterpolargl": [
           {
            "marker": {
             "colorbar": {
              "outlinewidth": 0,
              "ticks": ""
             }
            },
            "type": "scatterpolargl"
           }
          ],
          "scatterternary": [
           {
            "marker": {
             "colorbar": {
              "outlinewidth": 0,
              "ticks": ""
             }
            },
            "type": "scatterternary"
           }
          ],
          "surface": [
           {
            "colorbar": {
             "outlinewidth": 0,
             "ticks": ""
            },
            "colorscale": [
             [
              0,
              "#0d0887"
             ],
             [
              0.1111111111111111,
              "#46039f"
             ],
             [
              0.2222222222222222,
              "#7201a8"
             ],
             [
              0.3333333333333333,
              "#9c179e"
             ],
             [
              0.4444444444444444,
              "#bd3786"
             ],
             [
              0.5555555555555556,
              "#d8576b"
             ],
             [
              0.6666666666666666,
              "#ed7953"
             ],
             [
              0.7777777777777778,
              "#fb9f3a"
             ],
             [
              0.8888888888888888,
              "#fdca26"
             ],
             [
              1,
              "#f0f921"
             ]
            ],
            "type": "surface"
           }
          ],
          "table": [
           {
            "cells": {
             "fill": {
              "color": "#EBF0F8"
             },
             "line": {
              "color": "white"
             }
            },
            "header": {
             "fill": {
              "color": "#C8D4E3"
             },
             "line": {
              "color": "white"
             }
            },
            "type": "table"
           }
          ]
         },
         "layout": {
          "annotationdefaults": {
           "arrowcolor": "#2a3f5f",
           "arrowhead": 0,
           "arrowwidth": 1
          },
          "autotypenumbers": "strict",
          "coloraxis": {
           "colorbar": {
            "outlinewidth": 0,
            "ticks": ""
           }
          },
          "colorscale": {
           "diverging": [
            [
             0,
             "#8e0152"
            ],
            [
             0.1,
             "#c51b7d"
            ],
            [
             0.2,
             "#de77ae"
            ],
            [
             0.3,
             "#f1b6da"
            ],
            [
             0.4,
             "#fde0ef"
            ],
            [
             0.5,
             "#f7f7f7"
            ],
            [
             0.6,
             "#e6f5d0"
            ],
            [
             0.7,
             "#b8e186"
            ],
            [
             0.8,
             "#7fbc41"
            ],
            [
             0.9,
             "#4d9221"
            ],
            [
             1,
             "#276419"
            ]
           ],
           "sequential": [
            [
             0,
             "#0d0887"
            ],
            [
             0.1111111111111111,
             "#46039f"
            ],
            [
             0.2222222222222222,
             "#7201a8"
            ],
            [
             0.3333333333333333,
             "#9c179e"
            ],
            [
             0.4444444444444444,
             "#bd3786"
            ],
            [
             0.5555555555555556,
             "#d8576b"
            ],
            [
             0.6666666666666666,
             "#ed7953"
            ],
            [
             0.7777777777777778,
             "#fb9f3a"
            ],
            [
             0.8888888888888888,
             "#fdca26"
            ],
            [
             1,
             "#f0f921"
            ]
           ],
           "sequentialminus": [
            [
             0,
             "#0d0887"
            ],
            [
             0.1111111111111111,
             "#46039f"
            ],
            [
             0.2222222222222222,
             "#7201a8"
            ],
            [
             0.3333333333333333,
             "#9c179e"
            ],
            [
             0.4444444444444444,
             "#bd3786"
            ],
            [
             0.5555555555555556,
             "#d8576b"
            ],
            [
             0.6666666666666666,
             "#ed7953"
            ],
            [
             0.7777777777777778,
             "#fb9f3a"
            ],
            [
             0.8888888888888888,
             "#fdca26"
            ],
            [
             1,
             "#f0f921"
            ]
           ]
          },
          "colorway": [
           "#636efa",
           "#EF553B",
           "#00cc96",
           "#ab63fa",
           "#FFA15A",
           "#19d3f3",
           "#FF6692",
           "#B6E880",
           "#FF97FF",
           "#FECB52"
          ],
          "font": {
           "color": "#2a3f5f"
          },
          "geo": {
           "bgcolor": "white",
           "lakecolor": "white",
           "landcolor": "#E5ECF6",
           "showlakes": true,
           "showland": true,
           "subunitcolor": "white"
          },
          "hoverlabel": {
           "align": "left"
          },
          "hovermode": "closest",
          "mapbox": {
           "style": "light"
          },
          "paper_bgcolor": "white",
          "plot_bgcolor": "#E5ECF6",
          "polar": {
           "angularaxis": {
            "gridcolor": "white",
            "linecolor": "white",
            "ticks": ""
           },
           "bgcolor": "#E5ECF6",
           "radialaxis": {
            "gridcolor": "white",
            "linecolor": "white",
            "ticks": ""
           }
          },
          "scene": {
           "xaxis": {
            "backgroundcolor": "#E5ECF6",
            "gridcolor": "white",
            "gridwidth": 2,
            "linecolor": "white",
            "showbackground": true,
            "ticks": "",
            "zerolinecolor": "white"
           },
           "yaxis": {
            "backgroundcolor": "#E5ECF6",
            "gridcolor": "white",
            "gridwidth": 2,
            "linecolor": "white",
            "showbackground": true,
            "ticks": "",
            "zerolinecolor": "white"
           },
           "zaxis": {
            "backgroundcolor": "#E5ECF6",
            "gridcolor": "white",
            "gridwidth": 2,
            "linecolor": "white",
            "showbackground": true,
            "ticks": "",
            "zerolinecolor": "white"
           }
          },
          "shapedefaults": {
           "line": {
            "color": "#2a3f5f"
           }
          },
          "ternary": {
           "aaxis": {
            "gridcolor": "white",
            "linecolor": "white",
            "ticks": ""
           },
           "baxis": {
            "gridcolor": "white",
            "linecolor": "white",
            "ticks": ""
           },
           "bgcolor": "#E5ECF6",
           "caxis": {
            "gridcolor": "white",
            "linecolor": "white",
            "ticks": ""
           }
          },
          "title": {
           "x": 0.05
          },
          "xaxis": {
           "automargin": true,
           "gridcolor": "white",
           "linecolor": "white",
           "ticks": "",
           "title": {
            "standoff": 15
           },
           "zerolinecolor": "white",
           "zerolinewidth": 2
          },
          "yaxis": {
           "automargin": true,
           "gridcolor": "white",
           "linecolor": "white",
           "ticks": "",
           "title": {
            "standoff": 15
           },
           "zerolinecolor": "white",
           "zerolinewidth": 2
          }
         }
        },
        "title": {
         "text": "Sum by Days - Total Prices"
        },
        "xaxis": {
         "anchor": "y",
         "domain": [
          0,
          1
         ],
         "title": {
          "text": "Invoice Date"
         }
        },
        "yaxis": {
         "anchor": "x",
         "domain": [
          0,
          1
         ],
         "title": {
          "text": "Value"
         }
        }
       }
      }
     },
     "metadata": {},
     "output_type": "display_data"
    }
   ],
   "source": [
    "import plotly.express as px\n",
    "\n",
    "# Plot data by day and sum the 'Quantity' and 'TotalPrices' column\n",
    "sumbyday_dataset = dataset.groupby(pd.Grouper(key='InvoiceDate', freq='D')).sum().reset_index()\n",
    "\n",
    "# Create the plot\n",
    "fig = px.line(sumbyday_dataset, x='InvoiceDate', y=['TotalPrices'], title='Sum by Days - Total Prices')\n",
    "\n",
    "# Add x-axis and y-axis labels\n",
    "fig.update_layout(xaxis_title='Invoice Date', yaxis_title='Value')\n",
    "\n",
    "# Display the plot\n",
    "fig.show()"
   ]
  },
  {
   "attachments": {},
   "cell_type": "markdown",
   "metadata": {},
   "source": [
    "Melakukan visualisasi data dengan plot garis untuk melihat grafik penjualan bulanan."
   ]
  },
  {
   "cell_type": "code",
   "execution_count": 30,
   "metadata": {},
   "outputs": [
    {
     "data": {
      "application/vnd.plotly.v1+json": {
       "config": {
        "plotlyServerURL": "https://plot.ly"
       },
       "data": [
        {
         "hovertemplate": "variable=TotalPrices<br>InvoiceDate=%{x}<br>value=%{y}<extra></extra>",
         "legendgroup": "TotalPrices",
         "line": {
          "color": "#636efa",
          "dash": "solid"
         },
         "marker": {
          "symbol": "circle"
         },
         "mode": "lines",
         "name": "TotalPrices",
         "orientation": "v",
         "showlegend": true,
         "type": "scatter",
         "x": [
          "2010-12-31T00:00:00",
          "2011-01-31T00:00:00",
          "2011-02-28T00:00:00",
          "2011-03-31T00:00:00",
          "2011-04-30T00:00:00",
          "2011-05-31T00:00:00",
          "2011-06-30T00:00:00",
          "2011-07-31T00:00:00",
          "2011-08-31T00:00:00",
          "2011-09-30T00:00:00",
          "2011-10-31T00:00:00",
          "2011-11-30T00:00:00",
          "2011-12-31T00:00:00"
         ],
         "xaxis": "x",
         "y": [
          506673.54,
          399403.655,
          348755.31,
          455693.145,
          364853.476,
          497911.865,
          457458.13,
          458755.426,
          465066.365,
          667339.752,
          733059.5650000001,
          961553.815,
          294964.18
         ],
         "yaxis": "y"
        }
       ],
       "layout": {
        "legend": {
         "title": {
          "text": "variable"
         },
         "tracegroupgap": 0
        },
        "template": {
         "data": {
          "bar": [
           {
            "error_x": {
             "color": "#2a3f5f"
            },
            "error_y": {
             "color": "#2a3f5f"
            },
            "marker": {
             "line": {
              "color": "#E5ECF6",
              "width": 0.5
             },
             "pattern": {
              "fillmode": "overlay",
              "size": 10,
              "solidity": 0.2
             }
            },
            "type": "bar"
           }
          ],
          "barpolar": [
           {
            "marker": {
             "line": {
              "color": "#E5ECF6",
              "width": 0.5
             },
             "pattern": {
              "fillmode": "overlay",
              "size": 10,
              "solidity": 0.2
             }
            },
            "type": "barpolar"
           }
          ],
          "carpet": [
           {
            "aaxis": {
             "endlinecolor": "#2a3f5f",
             "gridcolor": "white",
             "linecolor": "white",
             "minorgridcolor": "white",
             "startlinecolor": "#2a3f5f"
            },
            "baxis": {
             "endlinecolor": "#2a3f5f",
             "gridcolor": "white",
             "linecolor": "white",
             "minorgridcolor": "white",
             "startlinecolor": "#2a3f5f"
            },
            "type": "carpet"
           }
          ],
          "choropleth": [
           {
            "colorbar": {
             "outlinewidth": 0,
             "ticks": ""
            },
            "type": "choropleth"
           }
          ],
          "contour": [
           {
            "colorbar": {
             "outlinewidth": 0,
             "ticks": ""
            },
            "colorscale": [
             [
              0,
              "#0d0887"
             ],
             [
              0.1111111111111111,
              "#46039f"
             ],
             [
              0.2222222222222222,
              "#7201a8"
             ],
             [
              0.3333333333333333,
              "#9c179e"
             ],
             [
              0.4444444444444444,
              "#bd3786"
             ],
             [
              0.5555555555555556,
              "#d8576b"
             ],
             [
              0.6666666666666666,
              "#ed7953"
             ],
             [
              0.7777777777777778,
              "#fb9f3a"
             ],
             [
              0.8888888888888888,
              "#fdca26"
             ],
             [
              1,
              "#f0f921"
             ]
            ],
            "type": "contour"
           }
          ],
          "contourcarpet": [
           {
            "colorbar": {
             "outlinewidth": 0,
             "ticks": ""
            },
            "type": "contourcarpet"
           }
          ],
          "heatmap": [
           {
            "colorbar": {
             "outlinewidth": 0,
             "ticks": ""
            },
            "colorscale": [
             [
              0,
              "#0d0887"
             ],
             [
              0.1111111111111111,
              "#46039f"
             ],
             [
              0.2222222222222222,
              "#7201a8"
             ],
             [
              0.3333333333333333,
              "#9c179e"
             ],
             [
              0.4444444444444444,
              "#bd3786"
             ],
             [
              0.5555555555555556,
              "#d8576b"
             ],
             [
              0.6666666666666666,
              "#ed7953"
             ],
             [
              0.7777777777777778,
              "#fb9f3a"
             ],
             [
              0.8888888888888888,
              "#fdca26"
             ],
             [
              1,
              "#f0f921"
             ]
            ],
            "type": "heatmap"
           }
          ],
          "heatmapgl": [
           {
            "colorbar": {
             "outlinewidth": 0,
             "ticks": ""
            },
            "colorscale": [
             [
              0,
              "#0d0887"
             ],
             [
              0.1111111111111111,
              "#46039f"
             ],
             [
              0.2222222222222222,
              "#7201a8"
             ],
             [
              0.3333333333333333,
              "#9c179e"
             ],
             [
              0.4444444444444444,
              "#bd3786"
             ],
             [
              0.5555555555555556,
              "#d8576b"
             ],
             [
              0.6666666666666666,
              "#ed7953"
             ],
             [
              0.7777777777777778,
              "#fb9f3a"
             ],
             [
              0.8888888888888888,
              "#fdca26"
             ],
             [
              1,
              "#f0f921"
             ]
            ],
            "type": "heatmapgl"
           }
          ],
          "histogram": [
           {
            "marker": {
             "pattern": {
              "fillmode": "overlay",
              "size": 10,
              "solidity": 0.2
             }
            },
            "type": "histogram"
           }
          ],
          "histogram2d": [
           {
            "colorbar": {
             "outlinewidth": 0,
             "ticks": ""
            },
            "colorscale": [
             [
              0,
              "#0d0887"
             ],
             [
              0.1111111111111111,
              "#46039f"
             ],
             [
              0.2222222222222222,
              "#7201a8"
             ],
             [
              0.3333333333333333,
              "#9c179e"
             ],
             [
              0.4444444444444444,
              "#bd3786"
             ],
             [
              0.5555555555555556,
              "#d8576b"
             ],
             [
              0.6666666666666666,
              "#ed7953"
             ],
             [
              0.7777777777777778,
              "#fb9f3a"
             ],
             [
              0.8888888888888888,
              "#fdca26"
             ],
             [
              1,
              "#f0f921"
             ]
            ],
            "type": "histogram2d"
           }
          ],
          "histogram2dcontour": [
           {
            "colorbar": {
             "outlinewidth": 0,
             "ticks": ""
            },
            "colorscale": [
             [
              0,
              "#0d0887"
             ],
             [
              0.1111111111111111,
              "#46039f"
             ],
             [
              0.2222222222222222,
              "#7201a8"
             ],
             [
              0.3333333333333333,
              "#9c179e"
             ],
             [
              0.4444444444444444,
              "#bd3786"
             ],
             [
              0.5555555555555556,
              "#d8576b"
             ],
             [
              0.6666666666666666,
              "#ed7953"
             ],
             [
              0.7777777777777778,
              "#fb9f3a"
             ],
             [
              0.8888888888888888,
              "#fdca26"
             ],
             [
              1,
              "#f0f921"
             ]
            ],
            "type": "histogram2dcontour"
           }
          ],
          "mesh3d": [
           {
            "colorbar": {
             "outlinewidth": 0,
             "ticks": ""
            },
            "type": "mesh3d"
           }
          ],
          "parcoords": [
           {
            "line": {
             "colorbar": {
              "outlinewidth": 0,
              "ticks": ""
             }
            },
            "type": "parcoords"
           }
          ],
          "pie": [
           {
            "automargin": true,
            "type": "pie"
           }
          ],
          "scatter": [
           {
            "fillpattern": {
             "fillmode": "overlay",
             "size": 10,
             "solidity": 0.2
            },
            "type": "scatter"
           }
          ],
          "scatter3d": [
           {
            "line": {
             "colorbar": {
              "outlinewidth": 0,
              "ticks": ""
             }
            },
            "marker": {
             "colorbar": {
              "outlinewidth": 0,
              "ticks": ""
             }
            },
            "type": "scatter3d"
           }
          ],
          "scattercarpet": [
           {
            "marker": {
             "colorbar": {
              "outlinewidth": 0,
              "ticks": ""
             }
            },
            "type": "scattercarpet"
           }
          ],
          "scattergeo": [
           {
            "marker": {
             "colorbar": {
              "outlinewidth": 0,
              "ticks": ""
             }
            },
            "type": "scattergeo"
           }
          ],
          "scattergl": [
           {
            "marker": {
             "colorbar": {
              "outlinewidth": 0,
              "ticks": ""
             }
            },
            "type": "scattergl"
           }
          ],
          "scattermapbox": [
           {
            "marker": {
             "colorbar": {
              "outlinewidth": 0,
              "ticks": ""
             }
            },
            "type": "scattermapbox"
           }
          ],
          "scatterpolar": [
           {
            "marker": {
             "colorbar": {
              "outlinewidth": 0,
              "ticks": ""
             }
            },
            "type": "scatterpolar"
           }
          ],
          "scatterpolargl": [
           {
            "marker": {
             "colorbar": {
              "outlinewidth": 0,
              "ticks": ""
             }
            },
            "type": "scatterpolargl"
           }
          ],
          "scatterternary": [
           {
            "marker": {
             "colorbar": {
              "outlinewidth": 0,
              "ticks": ""
             }
            },
            "type": "scatterternary"
           }
          ],
          "surface": [
           {
            "colorbar": {
             "outlinewidth": 0,
             "ticks": ""
            },
            "colorscale": [
             [
              0,
              "#0d0887"
             ],
             [
              0.1111111111111111,
              "#46039f"
             ],
             [
              0.2222222222222222,
              "#7201a8"
             ],
             [
              0.3333333333333333,
              "#9c179e"
             ],
             [
              0.4444444444444444,
              "#bd3786"
             ],
             [
              0.5555555555555556,
              "#d8576b"
             ],
             [
              0.6666666666666666,
              "#ed7953"
             ],
             [
              0.7777777777777778,
              "#fb9f3a"
             ],
             [
              0.8888888888888888,
              "#fdca26"
             ],
             [
              1,
              "#f0f921"
             ]
            ],
            "type": "surface"
           }
          ],
          "table": [
           {
            "cells": {
             "fill": {
              "color": "#EBF0F8"
             },
             "line": {
              "color": "white"
             }
            },
            "header": {
             "fill": {
              "color": "#C8D4E3"
             },
             "line": {
              "color": "white"
             }
            },
            "type": "table"
           }
          ]
         },
         "layout": {
          "annotationdefaults": {
           "arrowcolor": "#2a3f5f",
           "arrowhead": 0,
           "arrowwidth": 1
          },
          "autotypenumbers": "strict",
          "coloraxis": {
           "colorbar": {
            "outlinewidth": 0,
            "ticks": ""
           }
          },
          "colorscale": {
           "diverging": [
            [
             0,
             "#8e0152"
            ],
            [
             0.1,
             "#c51b7d"
            ],
            [
             0.2,
             "#de77ae"
            ],
            [
             0.3,
             "#f1b6da"
            ],
            [
             0.4,
             "#fde0ef"
            ],
            [
             0.5,
             "#f7f7f7"
            ],
            [
             0.6,
             "#e6f5d0"
            ],
            [
             0.7,
             "#b8e186"
            ],
            [
             0.8,
             "#7fbc41"
            ],
            [
             0.9,
             "#4d9221"
            ],
            [
             1,
             "#276419"
            ]
           ],
           "sequential": [
            [
             0,
             "#0d0887"
            ],
            [
             0.1111111111111111,
             "#46039f"
            ],
            [
             0.2222222222222222,
             "#7201a8"
            ],
            [
             0.3333333333333333,
             "#9c179e"
            ],
            [
             0.4444444444444444,
             "#bd3786"
            ],
            [
             0.5555555555555556,
             "#d8576b"
            ],
            [
             0.6666666666666666,
             "#ed7953"
            ],
            [
             0.7777777777777778,
             "#fb9f3a"
            ],
            [
             0.8888888888888888,
             "#fdca26"
            ],
            [
             1,
             "#f0f921"
            ]
           ],
           "sequentialminus": [
            [
             0,
             "#0d0887"
            ],
            [
             0.1111111111111111,
             "#46039f"
            ],
            [
             0.2222222222222222,
             "#7201a8"
            ],
            [
             0.3333333333333333,
             "#9c179e"
            ],
            [
             0.4444444444444444,
             "#bd3786"
            ],
            [
             0.5555555555555556,
             "#d8576b"
            ],
            [
             0.6666666666666666,
             "#ed7953"
            ],
            [
             0.7777777777777778,
             "#fb9f3a"
            ],
            [
             0.8888888888888888,
             "#fdca26"
            ],
            [
             1,
             "#f0f921"
            ]
           ]
          },
          "colorway": [
           "#636efa",
           "#EF553B",
           "#00cc96",
           "#ab63fa",
           "#FFA15A",
           "#19d3f3",
           "#FF6692",
           "#B6E880",
           "#FF97FF",
           "#FECB52"
          ],
          "font": {
           "color": "#2a3f5f"
          },
          "geo": {
           "bgcolor": "white",
           "lakecolor": "white",
           "landcolor": "#E5ECF6",
           "showlakes": true,
           "showland": true,
           "subunitcolor": "white"
          },
          "hoverlabel": {
           "align": "left"
          },
          "hovermode": "closest",
          "mapbox": {
           "style": "light"
          },
          "paper_bgcolor": "white",
          "plot_bgcolor": "#E5ECF6",
          "polar": {
           "angularaxis": {
            "gridcolor": "white",
            "linecolor": "white",
            "ticks": ""
           },
           "bgcolor": "#E5ECF6",
           "radialaxis": {
            "gridcolor": "white",
            "linecolor": "white",
            "ticks": ""
           }
          },
          "scene": {
           "xaxis": {
            "backgroundcolor": "#E5ECF6",
            "gridcolor": "white",
            "gridwidth": 2,
            "linecolor": "white",
            "showbackground": true,
            "ticks": "",
            "zerolinecolor": "white"
           },
           "yaxis": {
            "backgroundcolor": "#E5ECF6",
            "gridcolor": "white",
            "gridwidth": 2,
            "linecolor": "white",
            "showbackground": true,
            "ticks": "",
            "zerolinecolor": "white"
           },
           "zaxis": {
            "backgroundcolor": "#E5ECF6",
            "gridcolor": "white",
            "gridwidth": 2,
            "linecolor": "white",
            "showbackground": true,
            "ticks": "",
            "zerolinecolor": "white"
           }
          },
          "shapedefaults": {
           "line": {
            "color": "#2a3f5f"
           }
          },
          "ternary": {
           "aaxis": {
            "gridcolor": "white",
            "linecolor": "white",
            "ticks": ""
           },
           "baxis": {
            "gridcolor": "white",
            "linecolor": "white",
            "ticks": ""
           },
           "bgcolor": "#E5ECF6",
           "caxis": {
            "gridcolor": "white",
            "linecolor": "white",
            "ticks": ""
           }
          },
          "title": {
           "x": 0.05
          },
          "xaxis": {
           "automargin": true,
           "gridcolor": "white",
           "linecolor": "white",
           "ticks": "",
           "title": {
            "standoff": 15
           },
           "zerolinecolor": "white",
           "zerolinewidth": 2
          },
          "yaxis": {
           "automargin": true,
           "gridcolor": "white",
           "linecolor": "white",
           "ticks": "",
           "title": {
            "standoff": 15
           },
           "zerolinecolor": "white",
           "zerolinewidth": 2
          }
         }
        },
        "title": {
         "text": "Sum by Month - Total Prices"
        },
        "xaxis": {
         "anchor": "y",
         "domain": [
          0,
          1
         ],
         "title": {
          "text": "Invoice Date"
         }
        },
        "yaxis": {
         "anchor": "x",
         "domain": [
          0,
          1
         ],
         "title": {
          "text": "Value"
         }
        }
       }
      }
     },
     "metadata": {},
     "output_type": "display_data"
    }
   ],
   "source": [
    "import plotly.express as px\n",
    "\n",
    "# Plot data by month and sum the 'Quantity' and 'TotalPrices' column\n",
    "sumbymonth_dataset = dataset.groupby(pd.Grouper(key='InvoiceDate', freq='M')).sum().reset_index()\n",
    "\n",
    "# Create the plot\n",
    "fig = px.line(sumbymonth_dataset, x='InvoiceDate', y=['TotalPrices'], title='Sum by Month - Total Prices')\n",
    "\n",
    "# Add x-axis and y-axis labels\n",
    "fig.update_layout(xaxis_title='Invoice Date', yaxis_title='Value')\n",
    "\n",
    "# Display the plot\n",
    "fig.show()"
   ]
  },
  {
   "attachments": {},
   "cell_type": "markdown",
   "metadata": {},
   "source": [
    "Menampilkan dataframe yang sudah dikalkulasikan berdasarkan data harian."
   ]
  },
  {
   "cell_type": "code",
   "execution_count": 31,
   "metadata": {},
   "outputs": [
    {
     "data": {
      "text/html": [
       "<div>\n",
       "<style scoped>\n",
       "    .dataframe tbody tr th:only-of-type {\n",
       "        vertical-align: middle;\n",
       "    }\n",
       "\n",
       "    .dataframe tbody tr th {\n",
       "        vertical-align: top;\n",
       "    }\n",
       "\n",
       "    .dataframe thead th {\n",
       "        text-align: right;\n",
       "    }\n",
       "</style>\n",
       "<table border=\"1\" class=\"dataframe\">\n",
       "  <thead>\n",
       "    <tr style=\"text-align: right;\">\n",
       "      <th></th>\n",
       "      <th>InvoiceDate</th>\n",
       "      <th>TotalPrices</th>\n",
       "    </tr>\n",
       "  </thead>\n",
       "  <tbody>\n",
       "    <tr>\n",
       "      <th>0</th>\n",
       "      <td>2010-12-01</td>\n",
       "      <td>37203.405</td>\n",
       "    </tr>\n",
       "    <tr>\n",
       "      <th>1</th>\n",
       "      <td>2010-12-02</td>\n",
       "      <td>30136.105</td>\n",
       "    </tr>\n",
       "    <tr>\n",
       "      <th>2</th>\n",
       "      <td>2010-12-03</td>\n",
       "      <td>28005.430</td>\n",
       "    </tr>\n",
       "    <tr>\n",
       "      <th>3</th>\n",
       "      <td>2010-12-04</td>\n",
       "      <td>0.000</td>\n",
       "    </tr>\n",
       "    <tr>\n",
       "      <th>4</th>\n",
       "      <td>2010-12-05</td>\n",
       "      <td>24857.235</td>\n",
       "    </tr>\n",
       "    <tr>\n",
       "      <th>...</th>\n",
       "      <td>...</td>\n",
       "      <td>...</td>\n",
       "    </tr>\n",
       "    <tr>\n",
       "      <th>369</th>\n",
       "      <td>2011-12-05</td>\n",
       "      <td>60780.610</td>\n",
       "    </tr>\n",
       "    <tr>\n",
       "      <th>370</th>\n",
       "      <td>2011-12-06</td>\n",
       "      <td>34729.680</td>\n",
       "    </tr>\n",
       "    <tr>\n",
       "      <th>371</th>\n",
       "      <td>2011-12-07</td>\n",
       "      <td>36071.930</td>\n",
       "    </tr>\n",
       "    <tr>\n",
       "      <th>372</th>\n",
       "      <td>2011-12-08</td>\n",
       "      <td>50208.780</td>\n",
       "    </tr>\n",
       "    <tr>\n",
       "      <th>373</th>\n",
       "      <td>2011-12-09</td>\n",
       "      <td>21623.535</td>\n",
       "    </tr>\n",
       "  </tbody>\n",
       "</table>\n",
       "<p>374 rows × 2 columns</p>\n",
       "</div>"
      ],
      "text/plain": [
       "    InvoiceDate  TotalPrices\n",
       "0    2010-12-01    37203.405\n",
       "1    2010-12-02    30136.105\n",
       "2    2010-12-03    28005.430\n",
       "3    2010-12-04        0.000\n",
       "4    2010-12-05    24857.235\n",
       "..          ...          ...\n",
       "369  2011-12-05    60780.610\n",
       "370  2011-12-06    34729.680\n",
       "371  2011-12-07    36071.930\n",
       "372  2011-12-08    50208.780\n",
       "373  2011-12-09    21623.535\n",
       "\n",
       "[374 rows x 2 columns]"
      ]
     },
     "execution_count": 31,
     "metadata": {},
     "output_type": "execute_result"
    }
   ],
   "source": [
    "sumbyday_dataset"
   ]
  },
  {
   "attachments": {},
   "cell_type": "markdown",
   "metadata": {},
   "source": [
    "Melakukan ektrasi fitur waktu untuk kebutuhan pemodelan supaya analisis bisa lebih detail."
   ]
  },
  {
   "cell_type": "code",
   "execution_count": 32,
   "metadata": {},
   "outputs": [
    {
     "data": {
      "text/html": [
       "<div>\n",
       "<style scoped>\n",
       "    .dataframe tbody tr th:only-of-type {\n",
       "        vertical-align: middle;\n",
       "    }\n",
       "\n",
       "    .dataframe tbody tr th {\n",
       "        vertical-align: top;\n",
       "    }\n",
       "\n",
       "    .dataframe thead th {\n",
       "        text-align: right;\n",
       "    }\n",
       "</style>\n",
       "<table border=\"1\" class=\"dataframe\">\n",
       "  <thead>\n",
       "    <tr style=\"text-align: right;\">\n",
       "      <th></th>\n",
       "      <th>InvoiceDate</th>\n",
       "      <th>TotalPrices</th>\n",
       "      <th>day</th>\n",
       "      <th>month</th>\n",
       "      <th>year</th>\n",
       "      <th>dayofweek</th>\n",
       "      <th>quarter</th>\n",
       "      <th>weekday</th>\n",
       "    </tr>\n",
       "  </thead>\n",
       "  <tbody>\n",
       "    <tr>\n",
       "      <th>0</th>\n",
       "      <td>2010-12-01 08:26:00</td>\n",
       "      <td>15.30</td>\n",
       "      <td>1</td>\n",
       "      <td>12</td>\n",
       "      <td>2010</td>\n",
       "      <td>2</td>\n",
       "      <td>4</td>\n",
       "      <td>True</td>\n",
       "    </tr>\n",
       "    <tr>\n",
       "      <th>1</th>\n",
       "      <td>2010-12-01 08:26:00</td>\n",
       "      <td>20.34</td>\n",
       "      <td>1</td>\n",
       "      <td>12</td>\n",
       "      <td>2010</td>\n",
       "      <td>2</td>\n",
       "      <td>4</td>\n",
       "      <td>True</td>\n",
       "    </tr>\n",
       "    <tr>\n",
       "      <th>2</th>\n",
       "      <td>2010-12-01 08:26:00</td>\n",
       "      <td>22.00</td>\n",
       "      <td>1</td>\n",
       "      <td>12</td>\n",
       "      <td>2010</td>\n",
       "      <td>2</td>\n",
       "      <td>4</td>\n",
       "      <td>True</td>\n",
       "    </tr>\n",
       "    <tr>\n",
       "      <th>3</th>\n",
       "      <td>2010-12-01 08:26:00</td>\n",
       "      <td>20.34</td>\n",
       "      <td>1</td>\n",
       "      <td>12</td>\n",
       "      <td>2010</td>\n",
       "      <td>2</td>\n",
       "      <td>4</td>\n",
       "      <td>True</td>\n",
       "    </tr>\n",
       "    <tr>\n",
       "      <th>4</th>\n",
       "      <td>2010-12-01 08:26:00</td>\n",
       "      <td>20.34</td>\n",
       "      <td>1</td>\n",
       "      <td>12</td>\n",
       "      <td>2010</td>\n",
       "      <td>2</td>\n",
       "      <td>4</td>\n",
       "      <td>True</td>\n",
       "    </tr>\n",
       "    <tr>\n",
       "      <th>...</th>\n",
       "      <td>...</td>\n",
       "      <td>...</td>\n",
       "      <td>...</td>\n",
       "      <td>...</td>\n",
       "      <td>...</td>\n",
       "      <td>...</td>\n",
       "      <td>...</td>\n",
       "      <td>...</td>\n",
       "    </tr>\n",
       "    <tr>\n",
       "      <th>536636</th>\n",
       "      <td>2011-12-09 12:50:00</td>\n",
       "      <td>10.20</td>\n",
       "      <td>9</td>\n",
       "      <td>12</td>\n",
       "      <td>2011</td>\n",
       "      <td>4</td>\n",
       "      <td>4</td>\n",
       "      <td>True</td>\n",
       "    </tr>\n",
       "    <tr>\n",
       "      <th>536637</th>\n",
       "      <td>2011-12-09 12:50:00</td>\n",
       "      <td>12.60</td>\n",
       "      <td>9</td>\n",
       "      <td>12</td>\n",
       "      <td>2011</td>\n",
       "      <td>4</td>\n",
       "      <td>4</td>\n",
       "      <td>True</td>\n",
       "    </tr>\n",
       "    <tr>\n",
       "      <th>536638</th>\n",
       "      <td>2011-12-09 12:50:00</td>\n",
       "      <td>16.60</td>\n",
       "      <td>9</td>\n",
       "      <td>12</td>\n",
       "      <td>2011</td>\n",
       "      <td>4</td>\n",
       "      <td>4</td>\n",
       "      <td>True</td>\n",
       "    </tr>\n",
       "    <tr>\n",
       "      <th>536639</th>\n",
       "      <td>2011-12-09 12:50:00</td>\n",
       "      <td>16.60</td>\n",
       "      <td>9</td>\n",
       "      <td>12</td>\n",
       "      <td>2011</td>\n",
       "      <td>4</td>\n",
       "      <td>4</td>\n",
       "      <td>True</td>\n",
       "    </tr>\n",
       "    <tr>\n",
       "      <th>536640</th>\n",
       "      <td>2011-12-09 12:50:00</td>\n",
       "      <td>14.85</td>\n",
       "      <td>9</td>\n",
       "      <td>12</td>\n",
       "      <td>2011</td>\n",
       "      <td>4</td>\n",
       "      <td>4</td>\n",
       "      <td>True</td>\n",
       "    </tr>\n",
       "  </tbody>\n",
       "</table>\n",
       "<p>536641 rows × 8 columns</p>\n",
       "</div>"
      ],
      "text/plain": [
       "               InvoiceDate  TotalPrices  day  month  year  dayofweek  quarter  \\\n",
       "0      2010-12-01 08:26:00        15.30    1     12  2010          2        4   \n",
       "1      2010-12-01 08:26:00        20.34    1     12  2010          2        4   \n",
       "2      2010-12-01 08:26:00        22.00    1     12  2010          2        4   \n",
       "3      2010-12-01 08:26:00        20.34    1     12  2010          2        4   \n",
       "4      2010-12-01 08:26:00        20.34    1     12  2010          2        4   \n",
       "...                    ...          ...  ...    ...   ...        ...      ...   \n",
       "536636 2011-12-09 12:50:00        10.20    9     12  2011          4        4   \n",
       "536637 2011-12-09 12:50:00        12.60    9     12  2011          4        4   \n",
       "536638 2011-12-09 12:50:00        16.60    9     12  2011          4        4   \n",
       "536639 2011-12-09 12:50:00        16.60    9     12  2011          4        4   \n",
       "536640 2011-12-09 12:50:00        14.85    9     12  2011          4        4   \n",
       "\n",
       "        weekday  \n",
       "0          True  \n",
       "1          True  \n",
       "2          True  \n",
       "3          True  \n",
       "4          True  \n",
       "...         ...  \n",
       "536636     True  \n",
       "536637     True  \n",
       "536638     True  \n",
       "536639     True  \n",
       "536640     True  \n",
       "\n",
       "[536641 rows x 8 columns]"
      ]
     },
     "execution_count": 32,
     "metadata": {},
     "output_type": "execute_result"
    }
   ],
   "source": [
    "# Extract InvoiceDate Features\n",
    "dataset['day'] = dataset['InvoiceDate'].dt.day\n",
    "dataset['month'] = dataset['InvoiceDate'].dt.month\n",
    "dataset['year'] = dataset['InvoiceDate'].dt.year\n",
    "dataset['dayofweek'] = dataset['InvoiceDate'].dt.dayofweek\n",
    "dataset['quarter'] = dataset['InvoiceDate'].dt.quarter\n",
    "dataset['weekday'] = dataset['dayofweek'] < 5\n",
    "\n",
    "dataset"
   ]
  },
  {
   "attachments": {},
   "cell_type": "markdown",
   "metadata": {},
   "source": [
    "Melihat informasi data."
   ]
  },
  {
   "cell_type": "code",
   "execution_count": 33,
   "metadata": {},
   "outputs": [
    {
     "name": "stdout",
     "output_type": "stream",
     "text": [
      "<class 'pandas.core.frame.DataFrame'>\n",
      "RangeIndex: 536641 entries, 0 to 536640\n",
      "Data columns (total 8 columns):\n",
      " #   Column       Non-Null Count   Dtype         \n",
      "---  ------       --------------   -----         \n",
      " 0   InvoiceDate  536641 non-null  datetime64[ns]\n",
      " 1   TotalPrices  536641 non-null  float64       \n",
      " 2   day          536641 non-null  int64         \n",
      " 3   month        536641 non-null  int64         \n",
      " 4   year         536641 non-null  int64         \n",
      " 5   dayofweek    536641 non-null  int64         \n",
      " 6   quarter      536641 non-null  int64         \n",
      " 7   weekday      536641 non-null  bool          \n",
      "dtypes: bool(1), datetime64[ns](1), float64(1), int64(5)\n",
      "memory usage: 29.2 MB\n"
     ]
    }
   ],
   "source": [
    "dataset.info()"
   ]
  },
  {
   "attachments": {},
   "cell_type": "markdown",
   "metadata": {},
   "source": [
    "#### **Modeling**"
   ]
  },
  {
   "attachments": {},
   "cell_type": "markdown",
   "metadata": {},
   "source": [
    "Tahap pemodelan, pertama mengimport librari yang dibutuhkan, menentukan nilai X dan y, menerapkan metode normalisasi data pada variabel y yaitu dengan MinMaxScaler, membagi data dengan metode TimeSeriesSplit, melakukan pengujian terhadap model."
   ]
  },
  {
   "cell_type": "code",
   "execution_count": 34,
   "metadata": {},
   "outputs": [
    {
     "name": "stdout",
     "output_type": "stream",
     "text": [
      "TRAIN: [    0     1     2 ... 89438 89439 89440] TEST: [ 89441  89442  89443 ... 178878 178879 178880]\n",
      "TRAIN: [     0      1      2 ... 178878 178879 178880] TEST: [178881 178882 178883 ... 268318 268319 268320]\n",
      "TRAIN: [     0      1      2 ... 268318 268319 268320] TEST: [268321 268322 268323 ... 357758 357759 357760]\n",
      "TRAIN: [     0      1      2 ... 357758 357759 357760] TEST: [357761 357762 357763 ... 447198 447199 447200]\n",
      "TRAIN: [     0      1      2 ... 447198 447199 447200] TEST: [447201 447202 447203 ... 536638 536639 536640]\n",
      "MSE (Linear Regression): 0.042\n",
      "RMSE (Linear Regression) 0.204\n",
      "MAE (Linear Regression): 0.168\n",
      "MSE (Decision Tree): 0.043\n",
      "RMSE (Decision Tree): 0.207\n",
      "MAE (Decision Tree): 0.169\n"
     ]
    }
   ],
   "source": [
    "import numpy as np\n",
    "from sklearn.linear_model import LinearRegression\n",
    "from sklearn.tree import DecisionTreeRegressor\n",
    "from sklearn.preprocessing import MinMaxScaler\n",
    "from sklearn.model_selection import TimeSeriesSplit\n",
    "from sklearn.metrics import mean_squared_error, mean_absolute_error\n",
    "\n",
    "# Define X and y\n",
    "X = dataset[['day', 'month', 'year', 'dayofweek', 'quarter', 'weekday']].values\n",
    "y = dataset['TotalPrices'].values\n",
    "\n",
    "# Initialize scaler\n",
    "scaler = MinMaxScaler()\n",
    "\n",
    "X = X\n",
    "y = scaler.fit_transform(y.reshape(-1, 1))\n",
    "\n",
    "# Data Splitting\n",
    "tscv = TimeSeriesSplit(n_splits=5)\n",
    "\n",
    "# Initialize models\n",
    "linear_reg = LinearRegression()\n",
    "decision_tree = DecisionTreeRegressor()\n",
    "\n",
    "# Perform Time Series Cross Validation\n",
    "mae_linear_reg = []\n",
    "mae_decision_tree = []\n",
    "mse_linear_reg = []\n",
    "mse_decision_tree = []\n",
    "rmse_linear_reg = []\n",
    "rmse_decision_tree = []\n",
    "\n",
    "\n",
    "for train_index, test_index in tscv.split(X):\n",
    "    print(\"TRAIN:\", train_index, \"TEST:\", test_index)\n",
    "    X_train, X_test = X[train_index], X[test_index]\n",
    "    y_train, y_test = y[train_index], y[test_index]\n",
    "\n",
    "    # Train and predict using Linear Regression\n",
    "    linear_reg.fit(X_train, y_train)\n",
    "    y_pred_linear_reg = linear_reg.predict(X_test)\n",
    "    mse_linear_reg = mean_squared_error(y_test, y_pred_linear_reg)\n",
    "    rmse_linear_reg = np.sqrt(mse_linear_reg)\n",
    "    mae_linear_reg = mean_absolute_error(y_test, y_pred_linear_reg)\n",
    "\n",
    "    # Train and predict using Decision Tree\n",
    "    decision_tree.fit(X_train, y_train)\n",
    "    y_pred_decision_tree = decision_tree.predict(X_test)\n",
    "    mse_decision_tree = mean_squared_error(y_test, y_pred_decision_tree)\n",
    "    rmse_decision_tree = np.sqrt(mse_decision_tree)\n",
    "    mae_decision_tree = mean_absolute_error(y_test, y_pred_decision_tree)\n",
    "\n",
    "print(\"MSE (Linear Regression): {:.3f}\".format(mse_linear_reg))\n",
    "print(\"RMSE (Linear Regression) {:.3f}\".format(rmse_linear_reg))\n",
    "print(\"MAE (Linear Regression): {:.3f}\".format(mae_linear_reg))\n",
    "\n",
    "print(\"MSE (Decision Tree): {:.3f}\".format(mse_decision_tree))\n",
    "print(\"RMSE (Decision Tree): {:.3f}\".format(rmse_decision_tree))\n",
    "print(\"MAE (Decision Tree): {:.3f}\".format(mae_decision_tree))"
   ]
  },
  {
   "attachments": {},
   "cell_type": "markdown",
   "metadata": {},
   "source": [
    "#### **Evaluation**"
   ]
  },
  {
   "attachments": {},
   "cell_type": "markdown",
   "metadata": {},
   "source": [
    "Evaluasi dalam konteks pemodelan atau machine learning adalah proses mengevaluasi kinerja suatu model atau algoritma berdasarkan data yang telah dikumpulkan atau diuji.\n",
    "Membuat dataframe untuk hasil pengujian model yang tekah dievaluasi metrik supaya lebih mudah di pahami."
   ]
  },
  {
   "cell_type": "code",
   "execution_count": 35,
   "metadata": {},
   "outputs": [
    {
     "data": {
      "text/html": [
       "<div>\n",
       "<style scoped>\n",
       "    .dataframe tbody tr th:only-of-type {\n",
       "        vertical-align: middle;\n",
       "    }\n",
       "\n",
       "    .dataframe tbody tr th {\n",
       "        vertical-align: top;\n",
       "    }\n",
       "\n",
       "    .dataframe thead th {\n",
       "        text-align: right;\n",
       "    }\n",
       "</style>\n",
       "<table border=\"1\" class=\"dataframe\">\n",
       "  <thead>\n",
       "    <tr style=\"text-align: right;\">\n",
       "      <th></th>\n",
       "      <th>Linear Regression</th>\n",
       "      <th>Decision Tree</th>\n",
       "    </tr>\n",
       "  </thead>\n",
       "  <tbody>\n",
       "    <tr>\n",
       "      <th>Mean Squared Error (MSE)</th>\n",
       "      <td>0.042</td>\n",
       "      <td>0.043</td>\n",
       "    </tr>\n",
       "    <tr>\n",
       "      <th>Root Mean Squared Error (RMSE)</th>\n",
       "      <td>0.204</td>\n",
       "      <td>0.207</td>\n",
       "    </tr>\n",
       "    <tr>\n",
       "      <th>Mean Absolute Error (MAE)</th>\n",
       "      <td>0.168</td>\n",
       "      <td>0.169</td>\n",
       "    </tr>\n",
       "  </tbody>\n",
       "</table>\n",
       "</div>"
      ],
      "text/plain": [
       "                                Linear Regression  Decision Tree\n",
       "Mean Squared Error (MSE)                    0.042          0.043\n",
       "Root Mean Squared Error (RMSE)              0.204          0.207\n",
       "Mean Absolute Error (MAE)                   0.168          0.169"
      ]
     },
     "execution_count": 35,
     "metadata": {},
     "output_type": "execute_result"
    }
   ],
   "source": [
    "metrics_df = pd.DataFrame({\n",
    "    'Linear Regression': [mse_linear_reg, rmse_linear_reg, mae_linear_reg],\n",
    "    'Decision Tree': [mse_decision_tree, rmse_decision_tree, mae_decision_tree],\n",
    "}, index=['Mean Squared Error (MSE)', 'Root Mean Squared Error (RMSE)', 'Mean Absolute Error (MAE)'])\n",
    "metrics_df['Linear Regression'] = metrics_df['Linear Regression'].round(3)\n",
    "metrics_df['Decision Tree'] = metrics_df['Decision Tree'].round(3)\n",
    "metrics_df"
   ]
  },
  {
   "attachments": {},
   "cell_type": "markdown",
   "metadata": {},
   "source": [
    "Membuat visualisasi model supaya lebih mudah dipahami."
   ]
  },
  {
   "cell_type": "code",
   "execution_count": 36,
   "metadata": {},
   "outputs": [
    {
     "data": {
      "image/png": "[encoded data removed]",
      "text/plain": [
       "<Figure size 640x480 with 1 Axes>"
      ]
     },
     "metadata": {},
     "output_type": "display_data"
    }
   ],
   "source": [
    "import matplotlib.pyplot as plt\n",
    "\n",
    "metrics_df.plot.bar(rot=0)\n",
    "plt.subplots_adjust(right=2.5, top=1)\n",
    "plt.xlabel('Metrics')\n",
    "plt.ylabel('Value')\n",
    "plt.title('Comparison of Metrics: Linear Regression vs Decision Tree')\n",
    "plt.legend(loc='lower right')\n",
    "plt.show()"
   ]
  }
 ],
 "metadata": {
  "kernelspec": {
   "display_name": "venv",
   "language": "python",
   "name": "python3"
  },
  "language_info": {
   "codemirror_mode": {
    "name": "ipython",
    "version": 3
   },
   "file_extension": ".py",
   "mimetype": "text/x-python",
   "name": "python",
   "nbconvert_exporter": "python",
   "pygments_lexer": "ipython3",
   "version": "3.10.9"
  },
  "orig_nbformat": 4
 },
 "nbformat": 4,
 "nbformat_minor": 2
}
